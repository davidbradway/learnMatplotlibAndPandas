{
 "cells": [
  {
   "cell_type": "code",
   "execution_count": null,
   "metadata": {
    "collapsed": false,
    "nbpresent": {
     "id": "1757dd8d-245a-4545-af33-afd2cb26f0b3"
    }
   },
   "outputs": [],
   "source": [
    "%matplotlib notebook"
   ]
  },
  {
   "cell_type": "code",
   "execution_count": null,
   "metadata": {
    "collapsed": false,
    "nbpresent": {
     "id": "172958e5-2b7e-4a82-9b9f-738f92075abe"
    }
   },
   "outputs": [],
   "source": [
    "import matplotlib\n",
    "matplotlib.style.use('default')\n",
    "\n",
    "import matplotlib.pyplot as plt\n",
    "fig, ax = plt.subplots()\n",
    "ln, = ax.plot([0, 1, 4, 9, 16])\n",
    "plt.show()\n",
    "ln.set_color('g')"
   ]
  },
  {
   "cell_type": "code",
   "execution_count": null,
   "metadata": {
    "collapsed": true,
    "nbpresent": {
     "id": "587214ae-4484-47eb-8927-7d8834285571"
    }
   },
   "outputs": [],
   "source": [
    "ln.set_color('y')"
   ]
  },
  {
   "cell_type": "code",
   "execution_count": null,
   "metadata": {
    "collapsed": false,
    "nbpresent": {
     "id": "1ef3adf3-041a-4810-b03e-bdaf6d8b9872"
    }
   },
   "outputs": [],
   "source": [
    "import pandas as pd\n",
    "df = pd.DataFrame({\"var1\":[1,2,3,4,5,6], \"var2\":[1,0,3,0,5,0]})\n",
    "plt.plot(\"var1\", \"var2\", data=df)\n",
    "plt.show()"
   ]
  },
  {
   "cell_type": "code",
   "execution_count": null,
   "metadata": {
    "collapsed": false,
    "nbpresent": {
     "id": "66c3ade0-22c8-47ac-a3cc-709704ebde8f"
    }
   },
   "outputs": [],
   "source": [
    "# http://pandas.pydata.org/pandas-docs/stable/10min.html\n",
    "import numpy as np\n",
    "s = pd.Series([1,3,5,np.nan,6,8])\n",
    "s"
   ]
  },
  {
   "cell_type": "code",
   "execution_count": null,
   "metadata": {
    "collapsed": false,
    "nbpresent": {
     "id": "e9019c3b-9dad-419c-8552-deb1af42463f"
    }
   },
   "outputs": [],
   "source": [
    "dates = pd.date_range('20130101', periods=6)\n",
    "dates"
   ]
  },
  {
   "cell_type": "code",
   "execution_count": null,
   "metadata": {
    "collapsed": false,
    "nbpresent": {
     "id": "02394cb2-8d55-4db0-9a0e-6a526725fe16"
    }
   },
   "outputs": [],
   "source": [
    "df = pd.DataFrame(np.random.randn(6,4), index=dates, columns=list('ABCD'))\n",
    "df"
   ]
  },
  {
   "cell_type": "code",
   "execution_count": null,
   "metadata": {
    "collapsed": false,
    "nbpresent": {
     "id": "cd17d68a-298a-492f-90bb-e7ee3e13318f"
    }
   },
   "outputs": [],
   "source": [
    "df2 = pd.DataFrame({ 'A' : 1.,\n",
    "                     'B' : pd.Timestamp('20130102'),\n",
    "                     'C' : pd.Series(1,index=list(range(4)),dtype='float32'),\n",
    "                     'D' : np.array([3] * 4,dtype='int32'),\n",
    "                     'E' : pd.Categorical([\"test\",\"train\",\"test\",\"train\"]),\n",
    "                     'F' : 'foo' })\n",
    "df2"
   ]
  },
  {
   "cell_type": "code",
   "execution_count": null,
   "metadata": {
    "collapsed": false,
    "nbpresent": {
     "id": "10e17feb-8b9a-400a-a299-06def579db57"
    }
   },
   "outputs": [],
   "source": [
    "df2.dtypes"
   ]
  },
  {
   "cell_type": "code",
   "execution_count": null,
   "metadata": {
    "collapsed": true,
    "nbpresent": {
     "id": "7d7c3fd4-a6cd-46fe-939a-a6792f175bbd"
    }
   },
   "outputs": [],
   "source": [
    "# try tab completion `df2.<TAB>`"
   ]
  },
  {
   "cell_type": "code",
   "execution_count": null,
   "metadata": {
    "collapsed": false,
    "nbpresent": {
     "id": "36811a6f-49f5-4318-83cf-b406786e05d1"
    }
   },
   "outputs": [],
   "source": [
    "df.head()"
   ]
  },
  {
   "cell_type": "code",
   "execution_count": null,
   "metadata": {
    "collapsed": false,
    "nbpresent": {
     "id": "8bf1cb94-96c8-4b8c-9d88-c6d7d74ecf7b"
    }
   },
   "outputs": [],
   "source": [
    "df.tail(2)"
   ]
  },
  {
   "cell_type": "code",
   "execution_count": null,
   "metadata": {
    "collapsed": false,
    "nbpresent": {
     "id": "069ee8a8-3be4-4741-ac2d-bcb65b4f1f5e"
    }
   },
   "outputs": [],
   "source": [
    "df.index"
   ]
  },
  {
   "cell_type": "code",
   "execution_count": null,
   "metadata": {
    "collapsed": false,
    "nbpresent": {
     "id": "c65ef634-3df1-497f-8942-220fce0a11d2"
    }
   },
   "outputs": [],
   "source": [
    "df.columns"
   ]
  },
  {
   "cell_type": "code",
   "execution_count": null,
   "metadata": {
    "collapsed": false,
    "nbpresent": {
     "id": "ac131033-1da5-4737-ab96-70a04690910b"
    }
   },
   "outputs": [],
   "source": [
    "df.values"
   ]
  },
  {
   "cell_type": "code",
   "execution_count": null,
   "metadata": {
    "collapsed": false,
    "nbpresent": {
     "id": "fe5a2f66-bafa-4257-80e6-b3178d9ad318"
    }
   },
   "outputs": [],
   "source": [
    "df.describe()"
   ]
  },
  {
   "cell_type": "code",
   "execution_count": null,
   "metadata": {
    "collapsed": false,
    "nbpresent": {
     "id": "f9869fad-e98f-4451-9806-eb0ebad13bd9"
    }
   },
   "outputs": [],
   "source": [
    "df.T"
   ]
  },
  {
   "cell_type": "code",
   "execution_count": null,
   "metadata": {
    "collapsed": false,
    "nbpresent": {
     "id": "31672eda-55b0-490b-b379-6614c226d1b5"
    }
   },
   "outputs": [],
   "source": [
    "df.sort_index(axis=1, ascending=False)"
   ]
  },
  {
   "cell_type": "code",
   "execution_count": null,
   "metadata": {
    "collapsed": false,
    "nbpresent": {
     "id": "8e3a68ab-3006-42eb-a773-7b7c4e555219"
    }
   },
   "outputs": [],
   "source": [
    "df.sort_values(by='B')"
   ]
  },
  {
   "cell_type": "code",
   "execution_count": null,
   "metadata": {
    "collapsed": false,
    "nbpresent": {
     "id": "d79f7d65-1079-4b76-9a59-0012a1904b1a"
    }
   },
   "outputs": [],
   "source": [
    "df['A']"
   ]
  },
  {
   "cell_type": "code",
   "execution_count": null,
   "metadata": {
    "collapsed": false,
    "nbpresent": {
     "id": "d4b0c106-294d-4e1c-8e90-140f720c5ca4"
    }
   },
   "outputs": [],
   "source": [
    "df[0:2]"
   ]
  },
  {
   "cell_type": "code",
   "execution_count": null,
   "metadata": {
    "collapsed": false,
    "nbpresent": {
     "id": "db3b2ec8-184e-4698-9dc8-ba391b86b245"
    }
   },
   "outputs": [],
   "source": [
    "df['20130102':'20130104']"
   ]
  },
  {
   "cell_type": "code",
   "execution_count": null,
   "metadata": {
    "collapsed": false,
    "nbpresent": {
     "id": "a93b3702-397a-4601-bc19-5f24435cd711"
    }
   },
   "outputs": [],
   "source": [
    "df.loc[dates[0]]"
   ]
  },
  {
   "cell_type": "code",
   "execution_count": null,
   "metadata": {
    "collapsed": false,
    "nbpresent": {
     "id": "94aea5ae-27f7-45f1-8d97-b554362d90ea"
    }
   },
   "outputs": [],
   "source": [
    "df.loc[:,['A','B']]"
   ]
  },
  {
   "cell_type": "code",
   "execution_count": null,
   "metadata": {
    "collapsed": false,
    "nbpresent": {
     "id": "6c789c09-c970-4b84-8419-b32f1d95fcae"
    }
   },
   "outputs": [],
   "source": [
    "df.loc['20130102':'20130104','B':'D']"
   ]
  },
  {
   "cell_type": "code",
   "execution_count": null,
   "metadata": {
    "collapsed": false,
    "nbpresent": {
     "id": "a8c5ed8c-b99e-4e55-b297-24a0420c8aac"
    }
   },
   "outputs": [],
   "source": [
    "# auto 'squeeze'\n",
    "df.loc['20130102',['A','B']]"
   ]
  },
  {
   "cell_type": "code",
   "execution_count": null,
   "metadata": {
    "collapsed": false,
    "nbpresent": {
     "id": "5e6d8639-5edf-45a8-82cf-dcd776f6ac66"
    }
   },
   "outputs": [],
   "source": [
    " df.loc[dates[0],'A']"
   ]
  },
  {
   "cell_type": "code",
   "execution_count": null,
   "metadata": {
    "collapsed": false,
    "nbpresent": {
     "id": "e910380d-5caf-40c9-be3c-0d3d9698d41b"
    }
   },
   "outputs": [],
   "source": [
    "# faster\n",
    "df.at[dates[0],'A']"
   ]
  },
  {
   "cell_type": "code",
   "execution_count": null,
   "metadata": {
    "collapsed": false,
    "nbpresent": {
     "id": "d168e818-a3eb-46e7-8df0-8267dbb2d6d7"
    }
   },
   "outputs": [],
   "source": [
    "df.iloc[3]"
   ]
  },
  {
   "cell_type": "code",
   "execution_count": null,
   "metadata": {
    "collapsed": false,
    "nbpresent": {
     "id": "1edea63c-1ca4-47e5-a45d-99635b43124d"
    }
   },
   "outputs": [],
   "source": [
    "df.iloc[3:5,0:2]"
   ]
  },
  {
   "cell_type": "code",
   "execution_count": null,
   "metadata": {
    "collapsed": false,
    "nbpresent": {
     "id": "2085ab38-35ef-40de-8928-8121857b27cd"
    }
   },
   "outputs": [],
   "source": [
    "df.iloc[[1,2,4],[0,2]]"
   ]
  },
  {
   "cell_type": "code",
   "execution_count": null,
   "metadata": {
    "collapsed": false,
    "nbpresent": {
     "id": "acf6cfe7-6e85-4a87-a0af-1663e0652553"
    }
   },
   "outputs": [],
   "source": [
    "df.iloc[1:3,:]"
   ]
  },
  {
   "cell_type": "code",
   "execution_count": null,
   "metadata": {
    "collapsed": false,
    "nbpresent": {
     "id": "466bc084-ee94-44e0-9ae1-db810c1ac360"
    }
   },
   "outputs": [],
   "source": [
    "df.iloc[:,1:3]"
   ]
  },
  {
   "cell_type": "code",
   "execution_count": null,
   "metadata": {
    "collapsed": false,
    "nbpresent": {
     "id": "7cfc93c0-9d66-4e8d-9c07-5be3f3c00a96"
    }
   },
   "outputs": [],
   "source": [
    "df.iloc[1,1]"
   ]
  },
  {
   "cell_type": "code",
   "execution_count": null,
   "metadata": {
    "collapsed": false,
    "nbpresent": {
     "id": "63e85942-4b38-4b9d-b9fe-3297d391b498"
    }
   },
   "outputs": [],
   "source": [
    "# faster\n",
    "df.iat[1,1]"
   ]
  },
  {
   "cell_type": "code",
   "execution_count": null,
   "metadata": {
    "collapsed": false,
    "nbpresent": {
     "id": "5ff9251d-5de3-40f8-b31e-21b2a90f5498"
    }
   },
   "outputs": [],
   "source": [
    "df[df.A > 0]"
   ]
  },
  {
   "cell_type": "code",
   "execution_count": null,
   "metadata": {
    "collapsed": false,
    "nbpresent": {
     "id": "a23c3d55-3ae3-4f81-ba9a-83da1403425b"
    }
   },
   "outputs": [],
   "source": [
    "df[df > 0]"
   ]
  },
  {
   "cell_type": "code",
   "execution_count": null,
   "metadata": {
    "collapsed": false,
    "nbpresent": {
     "id": "7213e272-89d3-43db-a6eb-fb01319c41e0"
    }
   },
   "outputs": [],
   "source": [
    "df2 = df.copy()\n",
    "df2['E'] = ['one', 'one','two','three','four','three']\n",
    "df2"
   ]
  },
  {
   "cell_type": "code",
   "execution_count": null,
   "metadata": {
    "collapsed": false,
    "nbpresent": {
     "id": "2468ec01-471e-4923-8296-e80935afec35"
    }
   },
   "outputs": [],
   "source": [
    "df2[df2['E'].isin(['two','four'])]"
   ]
  },
  {
   "cell_type": "code",
   "execution_count": null,
   "metadata": {
    "collapsed": false,
    "nbpresent": {
     "id": "e9341600-8613-48bb-b720-31c7941d8d6f"
    }
   },
   "outputs": [],
   "source": [
    "s1 = pd.Series([1,2,3,4,5,6], index=pd.date_range('20130102', periods=6))\n",
    "s1"
   ]
  },
  {
   "cell_type": "code",
   "execution_count": null,
   "metadata": {
    "collapsed": false,
    "nbpresent": {
     "id": "2a33fdc2-3c63-4063-a348-e81fe0ad1d19"
    }
   },
   "outputs": [],
   "source": [
    "df['F'] = s1\n",
    "df"
   ]
  },
  {
   "cell_type": "code",
   "execution_count": null,
   "metadata": {
    "collapsed": false,
    "nbpresent": {
     "id": "7e76299f-d46d-4f2c-aa88-d07ce7636d9a"
    }
   },
   "outputs": [],
   "source": [
    "df.at[dates[0],'A'] = 0\n",
    "df"
   ]
  },
  {
   "cell_type": "code",
   "execution_count": null,
   "metadata": {
    "collapsed": false,
    "nbpresent": {
     "id": "1f45e849-a502-4cdd-b4a5-6cece11b4cf8"
    }
   },
   "outputs": [],
   "source": [
    "df.iat[0,1] = 0\n",
    "df"
   ]
  },
  {
   "cell_type": "code",
   "execution_count": null,
   "metadata": {
    "collapsed": false,
    "nbpresent": {
     "id": "ed9abe71-e705-4a67-9b28-132e546ceb74"
    }
   },
   "outputs": [],
   "source": [
    "df.loc[:,'D'] = np.array([5] * len(df))\n",
    "df"
   ]
  },
  {
   "cell_type": "code",
   "execution_count": null,
   "metadata": {
    "collapsed": false,
    "nbpresent": {
     "id": "5f072293-434e-4bb1-b697-41f8c6b9a30e"
    }
   },
   "outputs": [],
   "source": [
    "df2 = df.copy()\n",
    "df2[df2 > 0] = -df2\n",
    "df2"
   ]
  },
  {
   "cell_type": "code",
   "execution_count": null,
   "metadata": {
    "collapsed": false,
    "nbpresent": {
     "id": "ca5cc1b0-c6a4-49ef-8bd6-3434b290ad80"
    }
   },
   "outputs": [],
   "source": [
    "df1 = df.reindex(index=dates[0:4], columns=list(df.columns) + ['E'])\n",
    "df1.loc[dates[0]:dates[1],'E'] = 1\n",
    "df1"
   ]
  },
  {
   "cell_type": "code",
   "execution_count": null,
   "metadata": {
    "collapsed": false,
    "nbpresent": {
     "id": "a4d8abaa-4869-492f-bf92-cea2b431f544"
    }
   },
   "outputs": [],
   "source": [
    "df1.dropna(how='any')"
   ]
  },
  {
   "cell_type": "code",
   "execution_count": null,
   "metadata": {
    "collapsed": false,
    "nbpresent": {
     "id": "1b9364be-f303-495f-bfad-67641fbffd90"
    }
   },
   "outputs": [],
   "source": [
    "df1.fillna(value=4)"
   ]
  },
  {
   "cell_type": "code",
   "execution_count": null,
   "metadata": {
    "collapsed": false,
    "nbpresent": {
     "id": "f4de267d-3607-4e7e-9759-a42f18735622"
    }
   },
   "outputs": [],
   "source": [
    "pd.isnull(df1)"
   ]
  },
  {
   "cell_type": "code",
   "execution_count": null,
   "metadata": {
    "collapsed": false,
    "nbpresent": {
     "id": "3e064ac9-b6dc-47b9-9dda-86c689759ddf"
    }
   },
   "outputs": [],
   "source": [
    "df.mean()"
   ]
  },
  {
   "cell_type": "code",
   "execution_count": null,
   "metadata": {
    "collapsed": false,
    "nbpresent": {
     "id": "20b10ea1-07ee-4eb1-9aae-94a2feaa96a4"
    }
   },
   "outputs": [],
   "source": [
    "df.mean(1)"
   ]
  },
  {
   "cell_type": "code",
   "execution_count": null,
   "metadata": {
    "collapsed": false,
    "nbpresent": {
     "id": "ddfdd648-0fe6-4b97-92da-b83c72ba28c7"
    }
   },
   "outputs": [],
   "source": [
    "s = pd.Series([1,3,5,np.nan,6,8], index=dates).shift(2)\n",
    "s"
   ]
  },
  {
   "cell_type": "code",
   "execution_count": null,
   "metadata": {
    "collapsed": false,
    "nbpresent": {
     "id": "3bc61365-368b-4937-9072-93ef2b242326"
    }
   },
   "outputs": [],
   "source": [
    "df"
   ]
  },
  {
   "cell_type": "code",
   "execution_count": null,
   "metadata": {
    "collapsed": false,
    "nbpresent": {
     "id": "a46f7325-6269-4805-821d-024b906a3ccd"
    }
   },
   "outputs": [],
   "source": [
    "df.add(s, axis='index')"
   ]
  },
  {
   "cell_type": "code",
   "execution_count": null,
   "metadata": {
    "collapsed": false,
    "nbpresent": {
     "id": "eee1b71b-f4d4-40a0-9724-f4425d44f553"
    }
   },
   "outputs": [],
   "source": [
    "df.apply(np.cumsum)"
   ]
  },
  {
   "cell_type": "code",
   "execution_count": null,
   "metadata": {
    "collapsed": false,
    "nbpresent": {
     "id": "dbe37ec6-3fbc-4f27-9880-6bdde18ca617"
    }
   },
   "outputs": [],
   "source": [
    "df.apply(lambda x: x.max() - x.min())"
   ]
  },
  {
   "cell_type": "code",
   "execution_count": null,
   "metadata": {
    "collapsed": false,
    "nbpresent": {
     "id": "2860da1a-e547-45cd-9005-c79a5a98c27a"
    }
   },
   "outputs": [],
   "source": [
    "s = pd.Series(np.random.randint(0, 7, size=10))\n",
    "s"
   ]
  },
  {
   "cell_type": "code",
   "execution_count": null,
   "metadata": {
    "collapsed": false,
    "nbpresent": {
     "id": "8868a013-b160-494e-a453-63dd2cf84ba2"
    }
   },
   "outputs": [],
   "source": [
    "s.value_counts()"
   ]
  },
  {
   "cell_type": "code",
   "execution_count": null,
   "metadata": {
    "collapsed": false,
    "nbpresent": {
     "id": "78899812-868d-4d5c-aa01-67e90b811345"
    }
   },
   "outputs": [],
   "source": [
    "s = pd.Series(['A', 'B', 'C', 'Aaba', 'Baca', np.nan, 'CABA', 'dog', 'cat'])\n",
    "s.str.lower()"
   ]
  },
  {
   "cell_type": "code",
   "execution_count": null,
   "metadata": {
    "collapsed": false,
    "nbpresent": {
     "id": "0b3de693-d96f-4814-a7cf-e7540f4f8d97"
    }
   },
   "outputs": [],
   "source": [
    "df = pd.DataFrame(np.random.randn(10, 4))\n",
    "df"
   ]
  },
  {
   "cell_type": "code",
   "execution_count": null,
   "metadata": {
    "collapsed": false,
    "nbpresent": {
     "id": "2b6de207-16f7-4787-aa57-7310d130be67"
    }
   },
   "outputs": [],
   "source": [
    "pieces = [df[:3], df[3:7], df[7:]]\n",
    "pd.concat(pieces)"
   ]
  },
  {
   "cell_type": "code",
   "execution_count": null,
   "metadata": {
    "collapsed": false,
    "nbpresent": {
     "id": "fc827f44-eef5-4eab-aa39-01bffe0d764c"
    }
   },
   "outputs": [],
   "source": [
    "left = pd.DataFrame({'key': ['foo', 'foo'], 'lval': [1, 2]})\n",
    "right = pd.DataFrame({'key': ['foo', 'foo'], 'rval': [4, 5]})\n",
    "pd.merge(left, right, on='key')"
   ]
  },
  {
   "cell_type": "code",
   "execution_count": null,
   "metadata": {
    "collapsed": false,
    "nbpresent": {
     "id": "a1089010-0288-4e49-9278-92a1cf90e563"
    }
   },
   "outputs": [],
   "source": [
    "df = pd.DataFrame(np.random.randn(8, 4), columns=['A','B','C','D'])\n",
    "df"
   ]
  },
  {
   "cell_type": "code",
   "execution_count": null,
   "metadata": {
    "collapsed": false,
    "nbpresent": {
     "id": "bb3dad82-28e3-435b-8f1a-d1c285597cb8"
    }
   },
   "outputs": [],
   "source": [
    "s = df.iloc[3]\n",
    "df.append(s, ignore_index=True)"
   ]
  },
  {
   "cell_type": "code",
   "execution_count": null,
   "metadata": {
    "collapsed": false,
    "nbpresent": {
     "id": "4626418a-5b71-4c1a-87d8-06fcb8b94782"
    }
   },
   "outputs": [],
   "source": [
    "df = pd.DataFrame({'A' : ['foo', 'bar', 'foo', 'bar',\n",
    "                          'foo', 'bar', 'foo', 'foo'],\n",
    "                   'B' : ['one', 'one', 'two', 'three',\n",
    "                          'two', 'two', 'one', 'three'],\n",
    "                   'C' : np.random.randn(8),\n",
    "                   'D' : np.random.randn(8)})\n",
    "df"
   ]
  },
  {
   "cell_type": "code",
   "execution_count": null,
   "metadata": {
    "collapsed": false,
    "nbpresent": {
     "id": "5d7d1337-222d-4440-b3e9-67f66ce52ba9"
    }
   },
   "outputs": [],
   "source": [
    "df.groupby('A').sum()"
   ]
  },
  {
   "cell_type": "code",
   "execution_count": null,
   "metadata": {
    "collapsed": false,
    "nbpresent": {
     "id": "193d5b44-47fa-40ae-a057-157cb77e7377"
    }
   },
   "outputs": [],
   "source": [
    "df.groupby(['A','B']).sum()"
   ]
  },
  {
   "cell_type": "code",
   "execution_count": null,
   "metadata": {
    "collapsed": false,
    "nbpresent": {
     "id": "496afdab-1eca-49c6-8829-e225805bf6b7"
    }
   },
   "outputs": [],
   "source": [
    "tuples = list(zip(*[['bar', 'bar', 'baz', 'baz',\n",
    "                     'foo', 'foo', 'qux', 'qux'],\n",
    "                    ['one', 'two', 'one', 'two',\n",
    "                     'one', 'two', 'one', 'two']])) \n",
    "\n",
    "tuples"
   ]
  },
  {
   "cell_type": "code",
   "execution_count": null,
   "metadata": {
    "collapsed": false,
    "nbpresent": {
     "id": "d4485514-9aaa-445b-a8ae-45588487af8c"
    }
   },
   "outputs": [],
   "source": [
    "index = pd.MultiIndex.from_tuples(tuples, names=['first', 'second'])\n",
    "index"
   ]
  },
  {
   "cell_type": "code",
   "execution_count": null,
   "metadata": {
    "collapsed": false,
    "nbpresent": {
     "id": "f8501bbe-f145-43b3-ae34-987c1c38f65d"
    }
   },
   "outputs": [],
   "source": [
    "df = pd.DataFrame(np.random.randn(8, 2), index=index, columns=['A', 'B'])\n",
    "df"
   ]
  },
  {
   "cell_type": "code",
   "execution_count": null,
   "metadata": {
    "collapsed": false,
    "nbpresent": {
     "id": "bab4a674-aa79-4746-94c6-f79dcac3350d"
    }
   },
   "outputs": [],
   "source": [
    "df2 = df[:4]\n",
    "df2"
   ]
  },
  {
   "cell_type": "code",
   "execution_count": null,
   "metadata": {
    "collapsed": false,
    "nbpresent": {
     "id": "07b3390b-280d-4694-ae1e-6efbdda8764a"
    }
   },
   "outputs": [],
   "source": [
    "stacked = df2.stack()\n",
    "stacked"
   ]
  },
  {
   "cell_type": "code",
   "execution_count": null,
   "metadata": {
    "collapsed": false,
    "nbpresent": {
     "id": "a0278dc8-f593-4a7b-9aca-67dfa1061f56"
    }
   },
   "outputs": [],
   "source": [
    "stacked.unstack()"
   ]
  },
  {
   "cell_type": "code",
   "execution_count": null,
   "metadata": {
    "collapsed": false,
    "nbpresent": {
     "id": "7b9f6230-7720-408d-b070-35019f38cd03"
    }
   },
   "outputs": [],
   "source": [
    "stacked.unstack(1)"
   ]
  },
  {
   "cell_type": "code",
   "execution_count": null,
   "metadata": {
    "collapsed": false,
    "nbpresent": {
     "id": "1b6e8263-f113-49b0-9de2-9055c38cf052"
    }
   },
   "outputs": [],
   "source": [
    "stacked.unstack(0)"
   ]
  },
  {
   "cell_type": "code",
   "execution_count": null,
   "metadata": {
    "collapsed": false,
    "nbpresent": {
     "id": "b4df3882-ea11-4cec-be4a-e56c24e86f8f"
    }
   },
   "outputs": [],
   "source": [
    "df = pd.DataFrame({'A' : ['one', 'one', 'two', 'three'] * 3,\n",
    "                   'B' : ['L', 'M', 'N'] * 4,\n",
    "                   'C' : ['foo', 'foo', 'foo', 'bar', 'bar', 'bar'] * 2,\n",
    "                   'D' : np.random.randn(12),\n",
    "                   'E' : np.random.randn(12)})\n",
    "df"
   ]
  },
  {
   "cell_type": "code",
   "execution_count": null,
   "metadata": {
    "collapsed": false,
    "nbpresent": {
     "id": "1f3f6e3b-c96b-44fd-8b5a-4857dc107273"
    }
   },
   "outputs": [],
   "source": [
    "pd.pivot_table(df, values='D', index=['A', 'B'], columns=['C'])"
   ]
  },
  {
   "cell_type": "code",
   "execution_count": null,
   "metadata": {
    "collapsed": false,
    "nbpresent": {
     "id": "3b8722e5-6cc3-4784-9f57-498350e89afd"
    }
   },
   "outputs": [],
   "source": [
    "rng = pd.date_range('1/1/2012', periods=100, freq='S')\n",
    "rng[0:5]"
   ]
  },
  {
   "cell_type": "code",
   "execution_count": null,
   "metadata": {
    "collapsed": false,
    "nbpresent": {
     "id": "5f875220-4e61-4dff-9544-1ba911848e0e"
    }
   },
   "outputs": [],
   "source": [
    "ts = pd.Series(np.random.randint(0, 500, len(rng)), index=rng)\n",
    "ts[0:5]"
   ]
  },
  {
   "cell_type": "code",
   "execution_count": null,
   "metadata": {
    "collapsed": false,
    "nbpresent": {
     "id": "bcc5a2c9-8dd8-4822-8ba3-ac4f0ea37d2c"
    }
   },
   "outputs": [],
   "source": [
    "ts.resample('5Min').sum()"
   ]
  },
  {
   "cell_type": "code",
   "execution_count": null,
   "metadata": {
    "collapsed": false,
    "nbpresent": {
     "id": "52b14273-520f-4336-8289-c9de8c610295"
    }
   },
   "outputs": [],
   "source": [
    "rng = pd.date_range('3/6/2012 00:00', periods=5, freq='D')\n",
    "ts = pd.Series(np.random.randn(len(rng)), rng)\n",
    "ts"
   ]
  },
  {
   "cell_type": "code",
   "execution_count": null,
   "metadata": {
    "collapsed": false,
    "nbpresent": {
     "id": "168e014a-f991-494c-b24c-3bd6dd1186fc"
    }
   },
   "outputs": [],
   "source": [
    "ts_utc = ts.tz_localize('UTC')\n",
    "ts_utc"
   ]
  },
  {
   "cell_type": "code",
   "execution_count": null,
   "metadata": {
    "collapsed": false,
    "nbpresent": {
     "id": "8fae9af4-2393-450e-a74f-83381ab554b1"
    }
   },
   "outputs": [],
   "source": [
    "ts_utc.tz_convert('US/Eastern')"
   ]
  },
  {
   "cell_type": "code",
   "execution_count": null,
   "metadata": {
    "collapsed": false,
    "nbpresent": {
     "id": "64472bac-b964-4a21-bcd0-8b3171da125e"
    }
   },
   "outputs": [],
   "source": [
    "rng = pd.date_range('1/1/2012', periods=5, freq='M')\n",
    "ts = pd.Series(np.random.randn(len(rng)), index=rng)\n",
    "ts"
   ]
  },
  {
   "cell_type": "code",
   "execution_count": null,
   "metadata": {
    "collapsed": false,
    "nbpresent": {
     "id": "c8daa92f-7ed7-49d7-a48b-11bbc8de9b01"
    }
   },
   "outputs": [],
   "source": [
    "ps = ts.to_period()\n",
    "ps"
   ]
  },
  {
   "cell_type": "code",
   "execution_count": null,
   "metadata": {
    "collapsed": false,
    "nbpresent": {
     "id": "95fbcf38-3bef-469d-a106-67c49eefe9de"
    }
   },
   "outputs": [],
   "source": [
    "ps.to_timestamp()"
   ]
  },
  {
   "cell_type": "code",
   "execution_count": null,
   "metadata": {
    "collapsed": false,
    "nbpresent": {
     "id": "603b41ea-9c2b-4b20-9d8f-0c5b8ac77e8a"
    }
   },
   "outputs": [],
   "source": [
    "prng = pd.period_range('1990Q1', '2000Q4', freq='Q-NOV')\n",
    "ts = pd.Series(np.random.randn(len(prng)), prng)\n",
    "ts.index = (prng.asfreq('M', 'e') + 1).asfreq('H', 's') + 9\n",
    "ts.head()"
   ]
  },
  {
   "cell_type": "code",
   "execution_count": null,
   "metadata": {
    "collapsed": false,
    "nbpresent": {
     "id": "bc58d4e0-e761-45da-a348-df166aeb7983"
    }
   },
   "outputs": [],
   "source": [
    "df = pd.DataFrame({\"id\":[1,2,3,4,5,6], \"raw_grade\":['a', 'b', 'b', 'a', 'a', 'e']})\n",
    "df"
   ]
  },
  {
   "cell_type": "code",
   "execution_count": null,
   "metadata": {
    "collapsed": false,
    "nbpresent": {
     "id": "71d34fd7-32dd-476f-85a4-14041760602d"
    }
   },
   "outputs": [],
   "source": [
    "df[\"grade\"] = df[\"raw_grade\"].astype(\"category\")\n",
    "df[\"grade\"]"
   ]
  },
  {
   "cell_type": "code",
   "execution_count": null,
   "metadata": {
    "collapsed": false,
    "nbpresent": {
     "id": "80b5903a-87ff-43af-96ff-ce2f674688c3"
    }
   },
   "outputs": [],
   "source": [
    "df[\"grade\"].cat.categories = [\"very good\", \"good\", \"very bad\"]\n",
    "df"
   ]
  },
  {
   "cell_type": "code",
   "execution_count": null,
   "metadata": {
    "collapsed": false,
    "nbpresent": {
     "id": "a610f458-aa4c-4dfb-af5e-a3c94eef42e2"
    }
   },
   "outputs": [],
   "source": [
    "df[\"grade\"] = df[\"grade\"].cat.set_categories([\"very bad\", \"bad\", \"medium\", \"good\", \"very good\"])\n",
    "df[\"grade\"]"
   ]
  },
  {
   "cell_type": "code",
   "execution_count": null,
   "metadata": {
    "collapsed": false,
    "nbpresent": {
     "id": "979ee148-6480-4e7d-852a-c1fcbe2cb8b9"
    }
   },
   "outputs": [],
   "source": [
    "df.sort_values(by=\"grade\")"
   ]
  },
  {
   "cell_type": "code",
   "execution_count": null,
   "metadata": {
    "collapsed": false,
    "nbpresent": {
     "id": "2925afa6-25ef-4356-a4b3-7504d71b549f"
    }
   },
   "outputs": [],
   "source": [
    "df.groupby(\"grade\").size()"
   ]
  },
  {
   "cell_type": "code",
   "execution_count": null,
   "metadata": {
    "collapsed": false,
    "nbpresent": {
     "id": "d01a00f1-4c01-4109-ba96-2641623cb467"
    }
   },
   "outputs": [],
   "source": [
    "%matplotlib notebook\n",
    "plt.close('all')\n",
    "\n",
    "ts = pd.Series(np.random.randn(1000), index=pd.date_range('1/1/2000', periods=1000))\n",
    "ts = ts.cumsum()\n",
    "ts.plot()"
   ]
  },
  {
   "cell_type": "code",
   "execution_count": null,
   "metadata": {
    "collapsed": false,
    "nbpresent": {
     "id": "cf7731b8-b704-41f8-901b-24975b75613c"
    }
   },
   "outputs": [],
   "source": [
    "df = pd.DataFrame(np.random.randn(1000, 4), index=ts.index,\n",
    "                  columns=['A', 'B', 'C', 'D'])\n",
    "df = df.cumsum()\n",
    "df.plot(); plt.legend(loc='best');"
   ]
  },
  {
   "cell_type": "code",
   "execution_count": null,
   "metadata": {
    "collapsed": true,
    "nbpresent": {
     "id": "5855652b-0229-4d1d-ad21-6f98df801809"
    }
   },
   "outputs": [],
   "source": [
    "df.to_csv('foo.csv')"
   ]
  },
  {
   "cell_type": "code",
   "execution_count": null,
   "metadata": {
    "collapsed": false,
    "nbpresent": {
     "id": "489220b4-0d65-42f4-a64d-e0dac9bdd8d9"
    }
   },
   "outputs": [],
   "source": [
    "pd.read_csv('foo.csv')"
   ]
  },
  {
   "cell_type": "code",
   "execution_count": null,
   "metadata": {
    "collapsed": true,
    "nbpresent": {
     "id": "ec881ca4-b13f-425b-8306-007da8236c77"
    }
   },
   "outputs": [],
   "source": [
    "df.to_hdf('foo.h5','df')"
   ]
  },
  {
   "cell_type": "code",
   "execution_count": null,
   "metadata": {
    "collapsed": false,
    "nbpresent": {
     "id": "30a744ff-cb23-4784-9d04-0b036735c833"
    }
   },
   "outputs": [],
   "source": [
    "pd.read_hdf('foo.h5','df')"
   ]
  },
  {
   "cell_type": "code",
   "execution_count": null,
   "metadata": {
    "collapsed": true,
    "nbpresent": {
     "id": "ffad0433-2a9b-41f1-b841-135a6d729356"
    }
   },
   "outputs": [],
   "source": [
    "df.to_excel('foo.xlsx', sheet_name='Sheet1')"
   ]
  },
  {
   "cell_type": "code",
   "execution_count": null,
   "metadata": {
    "collapsed": false,
    "nbpresent": {
     "id": "eb9f3ba0-a70b-45d8-b14f-eea6ac904c49"
    }
   },
   "outputs": [],
   "source": [
    "pd.read_excel('foo.xlsx', 'Sheet1', index_col=None, na_values=['NA'])"
   ]
  },
  {
   "cell_type": "code",
   "execution_count": null,
   "metadata": {
    "collapsed": true,
    "nbpresent": {
     "id": "3cbfe0e4-38b0-4421-b66d-fa4fa6a44d19"
    }
   },
   "outputs": [],
   "source": []
  }
 ],
 "metadata": {
  "anaconda-cloud": {},
  "kernelspec": {
   "display_name": "Python [Root]",
   "language": "python",
   "name": "Python [Root]"
  },
  "language_info": {
   "codemirror_mode": {
    "name": "ipython",
    "version": 3
   },
   "file_extension": ".py",
   "mimetype": "text/x-python",
   "name": "python",
   "nbconvert_exporter": "python",
   "pygments_lexer": "ipython3",
   "version": "3.5.2"
  },
  "nbpresent": {
   "slides": {
    "00e80300-8475-4abe-ac0f-62e652d00c2c": {
     "id": "00e80300-8475-4abe-ac0f-62e652d00c2c",
     "prev": "4bcc36c9-fbfa-4c35-9f5f-684ce97891ad",
     "regions": {
      "82568af0-b7ef-456c-bcb5-90f262df83a8": {
       "attrs": {
        "height": 0.8,
        "width": 0.8,
        "x": 0.1,
        "y": 0.1
       },
       "content": {
        "cell": "1f45e849-a502-4cdd-b4a5-6cece11b4cf8",
        "part": "whole"
       },
       "id": "82568af0-b7ef-456c-bcb5-90f262df83a8"
      }
     }
    },
    "0435dcdc-c5ee-4bdc-aa26-441b92d411a8": {
     "id": "0435dcdc-c5ee-4bdc-aa26-441b92d411a8",
     "prev": "78e797c9-aadc-4a8a-9b92-4874bd2cc18c",
     "regions": {
      "ba01b811-6709-4416-9359-f22011a6c911": {
       "attrs": {
        "height": 0.8,
        "width": 0.8,
        "x": 0.1,
        "y": 0.1
       },
       "content": {
        "cell": "5f072293-434e-4bb1-b697-41f8c6b9a30e",
        "part": "whole"
       },
       "id": "ba01b811-6709-4416-9359-f22011a6c911"
      }
     }
    },
    "054abcff-16bd-46d9-8bad-d00b1c8e5432": {
     "id": "054abcff-16bd-46d9-8bad-d00b1c8e5432",
     "prev": "49cd1fbe-2620-4b22-bbc7-552c3c94aa3d",
     "regions": {
      "206f246b-3def-433a-90c0-ac6e04504400": {
       "attrs": {
        "height": 0.8,
        "width": 0.8,
        "x": 0.1,
        "y": 0.1
       },
       "content": {
        "cell": "95fbcf38-3bef-469d-a106-67c49eefe9de",
        "part": "whole"
       },
       "id": "206f246b-3def-433a-90c0-ac6e04504400"
      }
     }
    },
    "0985589f-4246-4757-8550-2703c01bfc4e": {
     "id": "0985589f-4246-4757-8550-2703c01bfc4e",
     "prev": "ec046c26-a630-4f8b-88e8-9fb3aa025f8f",
     "regions": {
      "7781d2e0-bf76-4982-9c72-c992ac9daca7": {
       "attrs": {
        "height": 0.8,
        "width": 0.8,
        "x": 0.1,
        "y": 0.1
       },
       "content": {
        "cell": "db3b2ec8-184e-4698-9dc8-ba391b86b245",
        "part": "whole"
       },
       "id": "7781d2e0-bf76-4982-9c72-c992ac9daca7"
      }
     }
    },
    "0d0f2aff-15e6-4d4b-b716-4a11e059f9e7": {
     "id": "0d0f2aff-15e6-4d4b-b716-4a11e059f9e7",
     "prev": "0985589f-4246-4757-8550-2703c01bfc4e",
     "regions": {
      "1823e1f2-c535-4559-8360-e7452dacd631": {
       "attrs": {
        "height": 0.8,
        "width": 0.8,
        "x": 0.1,
        "y": 0.1
       },
       "content": {
        "cell": "a93b3702-397a-4601-bc19-5f24435cd711",
        "part": "whole"
       },
       "id": "1823e1f2-c535-4559-8360-e7452dacd631"
      }
     }
    },
    "0e0a82e6-268d-4c29-8057-71bf20c07a91": {
     "id": "0e0a82e6-268d-4c29-8057-71bf20c07a91",
     "prev": "81e41634-1bee-4d10-8b73-0d86faea9502",
     "regions": {
      "d8708c33-03f7-4e22-b144-02c3c6bb5c5b": {
       "attrs": {
        "height": 0.8,
        "width": 0.8,
        "x": 0.1,
        "y": 0.1
       },
       "content": {
        "cell": "5f875220-4e61-4dff-9544-1ba911848e0e",
        "part": "whole"
       },
       "id": "d8708c33-03f7-4e22-b144-02c3c6bb5c5b"
      }
     }
    },
    "102434df-e22c-4082-86a0-da1dce7593f7": {
     "id": "102434df-e22c-4082-86a0-da1dce7593f7",
     "prev": "9da198a8-d5df-46ac-92fe-0c78002fdc79",
     "regions": {
      "89dbdac1-0d9d-4104-8311-73701cf9b8cf": {
       "attrs": {
        "height": 0.8,
        "width": 0.8,
        "x": 0.1,
        "y": 0.1
       },
       "content": {
        "cell": "f9869fad-e98f-4451-9806-eb0ebad13bd9",
        "part": "whole"
       },
       "id": "89dbdac1-0d9d-4104-8311-73701cf9b8cf"
      }
     }
    },
    "10bda349-30d2-4c33-b3f4-f6a4efb64289": {
     "id": "10bda349-30d2-4c33-b3f4-f6a4efb64289",
     "prev": "258e8a8b-bb47-4558-8fb6-0399bd015dac",
     "regions": {
      "a64a9a1e-9a05-471a-961d-18e76ffe544b": {
       "attrs": {
        "height": 0.8,
        "width": 0.8,
        "x": 0.1,
        "y": 0.1
       },
       "content": {
        "cell": "d4485514-9aaa-445b-a8ae-45588487af8c",
        "part": "whole"
       },
       "id": "a64a9a1e-9a05-471a-961d-18e76ffe544b"
      }
     }
    },
    "142fdab8-e5e4-44f6-b661-e5fdd46e2bb6": {
     "id": "142fdab8-e5e4-44f6-b661-e5fdd46e2bb6",
     "prev": "79785303-5e14-47f6-88e3-6a8c41746c44",
     "regions": {
      "cb44a9ba-7af6-47f0-b50f-8c16d9139439": {
       "attrs": {
        "height": 0.8,
        "width": 0.8,
        "x": 0.1,
        "y": 0.1
       },
       "content": {
        "cell": "b4df3882-ea11-4cec-be4a-e56c24e86f8f",
        "part": "whole"
       },
       "id": "cb44a9ba-7af6-47f0-b50f-8c16d9139439"
      }
     }
    },
    "143aacb7-d86d-4d22-95de-200e068ad270": {
     "id": "143aacb7-d86d-4d22-95de-200e068ad270",
     "prev": "102434df-e22c-4082-86a0-da1dce7593f7",
     "regions": {
      "3a9a1455-f594-464f-98e3-901922c88fa6": {
       "attrs": {
        "height": 0.8,
        "width": 0.8,
        "x": 0.1,
        "y": 0.1
       },
       "content": {
        "cell": "31672eda-55b0-490b-b379-6614c226d1b5",
        "part": "whole"
       },
       "id": "3a9a1455-f594-464f-98e3-901922c88fa6"
      }
     }
    },
    "183ddec4-b3cb-493d-a3c1-0ea3fc52c757": {
     "id": "183ddec4-b3cb-493d-a3c1-0ea3fc52c757",
     "prev": "47861305-5506-461d-b43e-714b46874adf",
     "regions": {
      "6649a8c1-a782-41f4-b487-637500bf6e8f": {
       "attrs": {
        "height": 0.8,
        "width": 0.8,
        "x": 0.1,
        "y": 0.1
       },
       "content": {
        "cell": "1edea63c-1ca4-47e5-a45d-99635b43124d",
        "part": "whole"
       },
       "id": "6649a8c1-a782-41f4-b487-637500bf6e8f"
      }
     }
    },
    "1d763120-772e-48f1-8b21-7ab1ce39efab": {
     "id": "1d763120-772e-48f1-8b21-7ab1ce39efab",
     "prev": "142fdab8-e5e4-44f6-b661-e5fdd46e2bb6",
     "regions": {
      "b08b6f51-8d0e-40c8-bfe5-908036d7d768": {
       "attrs": {
        "height": 0.8,
        "width": 0.8,
        "x": 0.1,
        "y": 0.1
       },
       "content": {
        "cell": "1f3f6e3b-c96b-44fd-8b5a-4857dc107273",
        "part": "whole"
       },
       "id": "b08b6f51-8d0e-40c8-bfe5-908036d7d768"
      }
     }
    },
    "1ee9eaea-23c0-41e2-b81c-d97163428e5c": {
     "id": "1ee9eaea-23c0-41e2-b81c-d97163428e5c",
     "prev": "60b74c14-ff4e-4eb9-ae6e-593da26c7c29",
     "regions": {
      "4895ddf8-47f0-4bae-9b88-cc0846865bb0": {
       "attrs": {
        "height": 0.8,
        "width": 0.8,
        "x": 0.1,
        "y": 0.1
       },
       "content": {
        "cell": "3bc61365-368b-4937-9072-93ef2b242326",
        "part": "whole"
       },
       "id": "4895ddf8-47f0-4bae-9b88-cc0846865bb0"
      }
     }
    },
    "20ec951a-ba90-4bb1-bb4c-fb4b79aa3a6e": {
     "id": "20ec951a-ba90-4bb1-bb4c-fb4b79aa3a6e",
     "prev": "37199663-4cb9-4d86-9a24-e909c0a16a2a",
     "regions": {
      "a771b149-de72-442d-ab80-1e4d6792ff78": {
       "attrs": {
        "height": 0.8,
        "width": 0.8,
        "x": 0.1,
        "y": 0.1
       },
       "content": {
        "cell": "069ee8a8-3be4-4741-ac2d-bcb65b4f1f5e",
        "part": "whole"
       },
       "id": "a771b149-de72-442d-ab80-1e4d6792ff78"
      }
     }
    },
    "21474297-419c-439c-b5af-a130a59b1ec7": {
     "id": "21474297-419c-439c-b5af-a130a59b1ec7",
     "prev": "4702dad6-bc51-4848-baac-43d94a721dcc",
     "regions": {
      "039733ca-6bba-4f2e-88d1-39428dcec631": {
       "attrs": {
        "height": 0.8,
        "width": 0.8,
        "x": 0.1,
        "y": 0.1
       },
       "content": {
        "cell": "66c3ade0-22c8-47ac-a3cc-709704ebde8f",
        "part": "whole"
       },
       "id": "039733ca-6bba-4f2e-88d1-39428dcec631"
      }
     }
    },
    "23e4aef0-6e1a-4e82-9d24-6621c868886e": {
     "id": "23e4aef0-6e1a-4e82-9d24-6621c868886e",
     "prev": "25ec6e4b-0737-418c-a7f9-0a0add825e05",
     "regions": {
      "112285e9-fe52-464a-921f-b66c57a5940e": {
       "attrs": {
        "height": 0.8,
        "width": 0.8,
        "x": 0.1,
        "y": 0.1
       },
       "content": {
        "cell": "7cfc93c0-9d66-4e8d-9c07-5be3f3c00a96",
        "part": "whole"
       },
       "id": "112285e9-fe52-464a-921f-b66c57a5940e"
      }
     }
    },
    "258e8a8b-bb47-4558-8fb6-0399bd015dac": {
     "id": "258e8a8b-bb47-4558-8fb6-0399bd015dac",
     "prev": "f1a64e2d-478d-453c-a61f-a371ef0a0bd6",
     "regions": {
      "c666d528-6060-4801-a1d2-d41124f9fa49": {
       "attrs": {
        "height": 0.8,
        "width": 0.8,
        "x": 0.1,
        "y": 0.1
       },
       "content": {
        "cell": "496afdab-1eca-49c6-8829-e225805bf6b7",
        "part": "whole"
       },
       "id": "c666d528-6060-4801-a1d2-d41124f9fa49"
      }
     }
    },
    "25ec6e4b-0737-418c-a7f9-0a0add825e05": {
     "id": "25ec6e4b-0737-418c-a7f9-0a0add825e05",
     "prev": "c8d20b4b-06fa-48cf-929d-af29bbdf9221",
     "regions": {
      "611a42fd-5fd7-49d0-903a-21aa88d787e2": {
       "attrs": {
        "height": 0.8,
        "width": 0.8,
        "x": 0.1,
        "y": 0.1
       },
       "content": {
        "cell": "466bc084-ee94-44e0-9ae1-db810c1ac360",
        "part": "whole"
       },
       "id": "611a42fd-5fd7-49d0-903a-21aa88d787e2"
      }
     }
    },
    "2824a257-f99f-4cd6-ba32-07ecc16c663e": {
     "id": "2824a257-f99f-4cd6-ba32-07ecc16c663e",
     "prev": "10bda349-30d2-4c33-b3f4-f6a4efb64289",
     "regions": {
      "fd86bbc0-6767-4a3a-b0c4-16d58d44063e": {
       "attrs": {
        "height": 0.8,
        "width": 0.8,
        "x": 0.1,
        "y": 0.1
       },
       "content": {
        "cell": "f8501bbe-f145-43b3-ae34-987c1c38f65d",
        "part": "whole"
       },
       "id": "fd86bbc0-6767-4a3a-b0c4-16d58d44063e"
      }
     }
    },
    "2c218370-74cd-415c-9d00-dd2a68c7cb22": {
     "id": "2c218370-74cd-415c-9d00-dd2a68c7cb22",
     "prev": "fa69e72e-8a2a-4f75-8128-2e7c1c297157",
     "regions": {
      "cc9c8a78-f741-4baf-a895-f07914682c7e": {
       "attrs": {
        "height": 0.8,
        "width": 0.8,
        "x": 0.1,
        "y": 0.1
       },
       "content": {
        "cell": "a8c5ed8c-b99e-4e55-b297-24a0420c8aac",
        "part": "whole"
       },
       "id": "cc9c8a78-f741-4baf-a895-f07914682c7e"
      }
     }
    },
    "2d8f22c4-242b-4598-b2fc-1f89c6ef668c": {
     "id": "2d8f22c4-242b-4598-b2fc-1f89c6ef668c",
     "prev": "1ee9eaea-23c0-41e2-b81c-d97163428e5c",
     "regions": {
      "c29373ee-acd9-46b1-8c4d-92afc5940f64": {
       "attrs": {
        "height": 0.8,
        "width": 0.8,
        "x": 0.1,
        "y": 0.1
       },
       "content": {
        "cell": "a46f7325-6269-4805-821d-024b906a3ccd",
        "part": "whole"
       },
       "id": "c29373ee-acd9-46b1-8c4d-92afc5940f64"
      }
     }
    },
    "2e0d50b0-a933-433a-b7f1-382a7a23de9d": {
     "id": "2e0d50b0-a933-433a-b7f1-382a7a23de9d",
     "prev": "e209c256-49ae-492a-95d6-198df0223dc9",
     "regions": {
      "cc36df7d-0a4d-4db9-8e90-4ee77c9193d8": {
       "attrs": {
        "height": 0.8,
        "width": 0.8,
        "x": 0.1,
        "y": 0.1
       },
       "content": {
        "cell": "78899812-868d-4d5c-aa01-67e90b811345",
        "part": "whole"
       },
       "id": "cc36df7d-0a4d-4db9-8e90-4ee77c9193d8"
      }
     }
    },
    "2fc4ed2a-830b-4f93-889b-8ccc67763d9b": {
     "id": "2fc4ed2a-830b-4f93-889b-8ccc67763d9b",
     "prev": "c26f0f0e-7d91-434d-9a48-4ed8da976a35",
     "regions": {
      "028b1a0d-4e1b-4b62-812e-7faccfeb32ea": {
       "attrs": {
        "height": 0.8,
        "width": 0.8,
        "x": 0.1,
        "y": 0.1
       },
       "content": {
        "cell": "e910380d-5caf-40c9-be3c-0d3d9698d41b",
        "part": "whole"
       },
       "id": "028b1a0d-4e1b-4b62-812e-7faccfeb32ea"
      }
     }
    },
    "37199663-4cb9-4d86-9a24-e909c0a16a2a": {
     "id": "37199663-4cb9-4d86-9a24-e909c0a16a2a",
     "prev": "bf58e6ee-496f-4706-8e22-a221e6ced5e9",
     "regions": {
      "35e8f1ad-e98c-4fad-8143-7bab58f1cc37": {
       "attrs": {
        "height": 0.8,
        "width": 0.8,
        "x": 0.1,
        "y": 0.1
       },
       "content": {
        "cell": "8bf1cb94-96c8-4b8c-9d88-c6d7d74ecf7b",
        "part": "whole"
       },
       "id": "35e8f1ad-e98c-4fad-8143-7bab58f1cc37"
      }
     }
    },
    "3aea420c-26af-477f-9c02-47257bc483ca": {
     "id": "3aea420c-26af-477f-9c02-47257bc483ca",
     "prev": "0435dcdc-c5ee-4bdc-aa26-441b92d411a8",
     "regions": {
      "64105a96-c93f-4459-a03e-0e015d8887a4": {
       "attrs": {
        "height": 0.8,
        "width": 0.8,
        "x": 0.1,
        "y": 0.1
       },
       "content": {
        "cell": "ca5cc1b0-c6a4-49ef-8bd6-3434b290ad80",
        "part": "whole"
       },
       "id": "64105a96-c93f-4459-a03e-0e015d8887a4"
      }
     }
    },
    "3bffe244-b402-4f77-b8d7-07b6205ecc68": {
     "id": "3bffe244-b402-4f77-b8d7-07b6205ecc68",
     "prev": "d55efd1e-dbb0-4ec9-9062-e5fe7665c007",
     "regions": {
      "d8664940-59cd-42de-a967-9838cc3a668e": {
       "attrs": {
        "height": 0.8,
        "width": 0.8,
        "x": 0.1,
        "y": 0.1
       },
       "content": {
        "cell": "172958e5-2b7e-4a82-9b9f-738f92075abe",
        "part": "whole"
       },
       "id": "d8664940-59cd-42de-a967-9838cc3a668e"
      }
     }
    },
    "3e2be5a6-4971-48dc-84af-6910ac1a7987": {
     "id": "3e2be5a6-4971-48dc-84af-6910ac1a7987",
     "prev": "d4a12278-93e9-4575-af80-81e9c3026067",
     "regions": {
      "fcab8b5a-d33c-43b4-bfbd-2a310d81c3c7": {
       "attrs": {
        "height": 0.8,
        "width": 0.8,
        "x": 0.1,
        "y": 0.1
       },
       "content": {
        "cell": "bc58d4e0-e761-45da-a348-df166aeb7983",
        "part": "whole"
       },
       "id": "fcab8b5a-d33c-43b4-bfbd-2a310d81c3c7"
      }
     }
    },
    "440a2e8c-6224-4b53-b1fd-278893fd8280": {
     "id": "440a2e8c-6224-4b53-b1fd-278893fd8280",
     "prev": "d8d6f263-9f98-4512-95b0-1fee84b2c65f",
     "regions": {
      "0390ceb9-437a-4534-bc56-55bfa14d1506": {
       "attrs": {
        "height": 0.8,
        "width": 0.8,
        "x": 0.1,
        "y": 0.1
       },
       "content": {
        "cell": "10e17feb-8b9a-400a-a299-06def579db57",
        "part": "whole"
       },
       "id": "0390ceb9-437a-4534-bc56-55bfa14d1506"
      }
     }
    },
    "4421ac11-503c-4787-a369-3d958089d6bc": {
     "id": "4421ac11-503c-4787-a369-3d958089d6bc",
     "prev": "c9ae8344-1319-45ed-b45e-4c0ca31bfb4b",
     "regions": {
      "695fc3d6-d1eb-4d1d-819a-919e2ea507dd": {
       "attrs": {
        "height": 0.8,
        "width": 0.8,
        "x": 0.1,
        "y": 0.1
       },
       "content": {
        "cell": "168e014a-f991-494c-b24c-3bd6dd1186fc",
        "part": "whole"
       },
       "id": "695fc3d6-d1eb-4d1d-819a-919e2ea507dd"
      }
     }
    },
    "45862c7b-93c5-4d30-adea-af27c27e5ba2": {
     "id": "45862c7b-93c5-4d30-adea-af27c27e5ba2",
     "prev": "23e4aef0-6e1a-4e82-9d24-6621c868886e",
     "regions": {
      "67c9e757-230f-441c-b40c-94175839826e": {
       "attrs": {
        "height": 0.8,
        "width": 0.8,
        "x": 0.1,
        "y": 0.1
       },
       "content": {
        "cell": "63e85942-4b38-4b9d-b9fe-3297d391b498",
        "part": "whole"
       },
       "id": "67c9e757-230f-441c-b40c-94175839826e"
      }
     }
    },
    "4702dad6-bc51-4848-baac-43d94a721dcc": {
     "id": "4702dad6-bc51-4848-baac-43d94a721dcc",
     "prev": "cf855c83-6381-477f-b303-ba74c20b23cb",
     "regions": {
      "56527801-3a4b-46a5-a54c-9250a95f7538": {
       "attrs": {
        "height": 0.8,
        "width": 0.8,
        "x": 0.1,
        "y": 0.1
       },
       "content": {
        "cell": "1ef3adf3-041a-4810-b03e-bdaf6d8b9872",
        "part": "whole"
       },
       "id": "56527801-3a4b-46a5-a54c-9250a95f7538"
      }
     }
    },
    "47861305-5506-461d-b43e-714b46874adf": {
     "id": "47861305-5506-461d-b43e-714b46874adf",
     "prev": "2fc4ed2a-830b-4f93-889b-8ccc67763d9b",
     "regions": {
      "717d388f-b7ba-49cb-8e6b-117bcb051044": {
       "attrs": {
        "height": 0.8,
        "width": 0.8,
        "x": 0.1,
        "y": 0.1
       },
       "content": {
        "cell": "d168e818-a3eb-46e7-8df0-8267dbb2d6d7",
        "part": "whole"
       },
       "id": "717d388f-b7ba-49cb-8e6b-117bcb051044"
      }
     }
    },
    "494ffb05-60fe-47c5-9392-06e73eadf03b": {
     "id": "494ffb05-60fe-47c5-9392-06e73eadf03b",
     "prev": "a1a820bc-cb95-47df-940a-1e208fb72fec",
     "regions": {
      "fb88f0c4-b801-4970-b762-9cdb5a57575b": {
       "attrs": {
        "height": 0.8,
        "width": 0.8,
        "x": 0.1,
        "y": 0.1
       },
       "content": {
        "cell": "a0278dc8-f593-4a7b-9aca-67dfa1061f56",
        "part": "whole"
       },
       "id": "fb88f0c4-b801-4970-b762-9cdb5a57575b"
      }
     }
    },
    "49a75e13-d091-4a9d-bba5-2844464ff2df": {
     "id": "49a75e13-d091-4a9d-bba5-2844464ff2df",
     "prev": "6831ade2-ea3b-4e32-b55a-c19035b7f033",
     "regions": {
      "46dcdde1-65b3-4f7f-8146-2d1eb4d81f7a": {
       "attrs": {
        "height": 0.8,
        "width": 0.8,
        "x": 0.1,
        "y": 0.1
       },
       "content": {
        "cell": "2468ec01-471e-4923-8296-e80935afec35",
        "part": "whole"
       },
       "id": "46dcdde1-65b3-4f7f-8146-2d1eb4d81f7a"
      }
     }
    },
    "49cd1fbe-2620-4b22-bbc7-552c3c94aa3d": {
     "id": "49cd1fbe-2620-4b22-bbc7-552c3c94aa3d",
     "prev": "659526c1-a746-43da-a18e-a3b43904b69d",
     "regions": {
      "c8973e8b-04f4-4fd5-ad50-4fac59b1564b": {
       "attrs": {
        "height": 0.8,
        "width": 0.8,
        "x": 0.1,
        "y": 0.1
       },
       "content": {
        "cell": "c8daa92f-7ed7-49d7-a48b-11bbc8de9b01",
        "part": "whole"
       },
       "id": "c8973e8b-04f4-4fd5-ad50-4fac59b1564b"
      }
     }
    },
    "4bcc36c9-fbfa-4c35-9f5f-684ce97891ad": {
     "id": "4bcc36c9-fbfa-4c35-9f5f-684ce97891ad",
     "prev": "84b47b30-ec49-4425-8e8f-3fe082708aa5",
     "regions": {
      "3ed83122-3845-4ac3-918f-456ca0c364f4": {
       "attrs": {
        "height": 0.8,
        "width": 0.8,
        "x": 0.1,
        "y": 0.1
       },
       "content": {
        "cell": "7e76299f-d46d-4f2c-aa88-d07ce7636d9a",
        "part": "whole"
       },
       "id": "3ed83122-3845-4ac3-918f-456ca0c364f4"
      }
     }
    },
    "4ea98755-7d4b-4683-b5f1-50260da2e278": {
     "id": "4ea98755-7d4b-4683-b5f1-50260da2e278",
     "prev": "b195dbd7-9263-4184-aa8a-0fe5224ed2db",
     "regions": {
      "415db957-abe9-492d-bba9-bc42ea247a39": {
       "attrs": {
        "height": 0.8,
        "width": 0.8,
        "x": 0.1,
        "y": 0.1
       },
       "content": {
        "cell": "979ee148-6480-4e7d-852a-c1fcbe2cb8b9",
        "part": "whole"
       },
       "id": "415db957-abe9-492d-bba9-bc42ea247a39"
      }
     }
    },
    "535cf50c-5ee2-456c-91c4-00df2c529a28": {
     "id": "535cf50c-5ee2-456c-91c4-00df2c529a28",
     "prev": "9eac5656-bda0-43ca-bca9-1231ff321ada",
     "regions": {
      "403eb84e-0aa0-4436-b577-aef57c7a273b": {
       "attrs": {
        "height": 0.8,
        "width": 0.8,
        "x": 0.1,
        "y": 0.1
       },
       "content": {
        "cell": "d01a00f1-4c01-4109-ba96-2641623cb467",
        "part": "whole"
       },
       "id": "403eb84e-0aa0-4436-b577-aef57c7a273b"
      }
     }
    },
    "53c0c516-ff50-4963-92cd-c6c783af6072": {
     "id": "53c0c516-ff50-4963-92cd-c6c783af6072",
     "prev": "9af97f3b-b2d0-4653-a579-d0b539981420",
     "regions": {
      "91f4ddcd-b2ba-4ffe-abcf-cfd0ce2a9feb": {
       "attrs": {
        "height": 0.8,
        "width": 0.8,
        "x": 0.1,
        "y": 0.1
       },
       "content": {
        "cell": "5d7d1337-222d-4440-b3e9-67f66ce52ba9",
        "part": "whole"
       },
       "id": "91f4ddcd-b2ba-4ffe-abcf-cfd0ce2a9feb"
      }
     }
    },
    "565a2c03-528c-464a-997b-0aab9182cca4": {
     "id": "565a2c03-528c-464a-997b-0aab9182cca4",
     "prev": "9f7d2a50-43e2-4706-a5f8-a15988f328dc",
     "regions": {
      "5aea13d9-2b99-4264-a78f-fbc54d0e1bdc": {
       "attrs": {
        "height": 0.8,
        "width": 0.8,
        "x": 0.1,
        "y": 0.1
       },
       "content": {
        "cell": "1b9364be-f303-495f-bfad-67641fbffd90",
        "part": "whole"
       },
       "id": "5aea13d9-2b99-4264-a78f-fbc54d0e1bdc"
      }
     }
    },
    "59a4b39b-6042-43b4-a809-5034ad1b610a": {
     "id": "59a4b39b-6042-43b4-a809-5034ad1b610a",
     "prev": "3e2be5a6-4971-48dc-84af-6910ac1a7987",
     "regions": {
      "98fa18d5-7347-4bb9-bff2-a920bb73ccca": {
       "attrs": {
        "height": 0.8,
        "width": 0.8,
        "x": 0.1,
        "y": 0.1
       },
       "content": {
        "cell": "71d34fd7-32dd-476f-85a4-14041760602d",
        "part": "whole"
       },
       "id": "98fa18d5-7347-4bb9-bff2-a920bb73ccca"
      }
     }
    },
    "60b74c14-ff4e-4eb9-ae6e-593da26c7c29": {
     "id": "60b74c14-ff4e-4eb9-ae6e-593da26c7c29",
     "prev": "f1e6760d-ee91-4bd9-95b3-f7152b30b04a",
     "regions": {
      "05b4df49-efed-487f-affd-778977aad6f9": {
       "attrs": {
        "height": 0.8,
        "width": 0.8,
        "x": 0.1,
        "y": 0.1
       },
       "content": {
        "cell": "ddfdd648-0fe6-4b97-92da-b83c72ba28c7",
        "part": "whole"
       },
       "id": "05b4df49-efed-487f-affd-778977aad6f9"
      }
     }
    },
    "610d62e4-ab29-4466-a6b5-601c0915aea5": {
     "id": "610d62e4-ab29-4466-a6b5-601c0915aea5",
     "prev": "2d8f22c4-242b-4598-b2fc-1f89c6ef668c",
     "regions": {
      "8fb426e0-4570-4ef1-9b56-690a377c7226": {
       "attrs": {
        "height": 0.8,
        "width": 0.8,
        "x": 0.1,
        "y": 0.1
       },
       "content": {
        "cell": "eee1b71b-f4d4-40a0-9724-f4425d44f553",
        "part": "whole"
       },
       "id": "8fb426e0-4570-4ef1-9b56-690a377c7226"
      }
     }
    },
    "659526c1-a746-43da-a18e-a3b43904b69d": {
     "id": "659526c1-a746-43da-a18e-a3b43904b69d",
     "prev": "85ba011f-6128-44a0-92b7-023bcc1daafa",
     "regions": {
      "a2c24238-6ad4-410c-abf8-da1d2e0ebb06": {
       "attrs": {
        "height": 0.8,
        "width": 0.8,
        "x": 0.1,
        "y": 0.1
       },
       "content": {
        "cell": "64472bac-b964-4a21-bcd0-8b3171da125e",
        "part": "whole"
       },
       "id": "a2c24238-6ad4-410c-abf8-da1d2e0ebb06"
      }
     }
    },
    "65a9007e-88b7-4f8b-b9b0-b9124871e049": {
     "id": "65a9007e-88b7-4f8b-b9b0-b9124871e049",
     "prev": "781658a7-34ec-49ff-993c-52b58b700a13",
     "regions": {
      "dbc66a4b-4bd0-420b-92ee-884b655cd817": {
       "attrs": {
        "height": 0.8,
        "width": 0.8,
        "x": 0.1,
        "y": 0.1
       },
       "content": {
        "cell": "fc827f44-eef5-4eab-aa39-01bffe0d764c",
        "part": "whole"
       },
       "id": "dbc66a4b-4bd0-420b-92ee-884b655cd817"
      }
     }
    },
    "6619332c-8a1f-4c59-afcd-94529158d8da": {
     "id": "6619332c-8a1f-4c59-afcd-94529158d8da",
     "prev": "aa6dffcf-3f54-41ea-9bbe-b191513c510a",
     "regions": {
      "dbf8a44a-9564-4aaf-8f5f-57dd6ba2fa33": {
       "attrs": {
        "height": 0.8,
        "width": 0.8,
        "x": 0.1,
        "y": 0.1
       },
       "content": {
        "cell": "3cbfe0e4-38b0-4421-b66d-fa4fa6a44d19",
        "part": "whole"
       },
       "id": "dbf8a44a-9564-4aaf-8f5f-57dd6ba2fa33"
      }
     }
    },
    "6831ade2-ea3b-4e32-b55a-c19035b7f033": {
     "id": "6831ade2-ea3b-4e32-b55a-c19035b7f033",
     "prev": "7bf22100-0cbc-4524-9a88-4d69b6b33db7",
     "regions": {
      "c1d3770a-f403-4d18-b892-f8e4b19da6e4": {
       "attrs": {
        "height": 0.8,
        "width": 0.8,
        "x": 0.1,
        "y": 0.1
       },
       "content": {
        "cell": "7213e272-89d3-43db-a6eb-fb01319c41e0",
        "part": "whole"
       },
       "id": "c1d3770a-f403-4d18-b892-f8e4b19da6e4"
      }
     }
    },
    "73eb7abb-28ef-4056-a915-3d220be67a7a": {
     "id": "73eb7abb-28ef-4056-a915-3d220be67a7a",
     "prev": "565a2c03-528c-464a-997b-0aab9182cca4",
     "regions": {
      "f0205254-a66d-4d4b-a279-3a5be7830e27": {
       "attrs": {
        "height": 0.8,
        "width": 0.8,
        "x": 0.1,
        "y": 0.1
       },
       "content": {
        "cell": "f4de267d-3607-4e7e-9759-a42f18735622",
        "part": "whole"
       },
       "id": "f0205254-a66d-4d4b-a279-3a5be7830e27"
      }
     }
    },
    "7547defb-1e51-4b9d-b3bb-1804a7ad41fa": {
     "id": "7547defb-1e51-4b9d-b3bb-1804a7ad41fa",
     "prev": "f1213c97-e207-4733-ac93-4d75e08acebc",
     "regions": {
      "fbf966ba-d883-43a2-99a1-8ec704d2b4cb": {
       "attrs": {
        "height": 0.8,
        "width": 0.8,
        "x": 0.1,
        "y": 0.1
       },
       "content": {
        "cell": "bb3dad82-28e3-435b-8f1a-d1c285597cb8",
        "part": "whole"
       },
       "id": "fbf966ba-d883-43a2-99a1-8ec704d2b4cb"
      }
     }
    },
    "764835eb-9e07-48d5-8ff0-5f64428d5f78": {
     "id": "764835eb-9e07-48d5-8ff0-5f64428d5f78",
     "prev": "c7fbd5e9-38c5-4458-a7ee-e8be869c87d3",
     "regions": {
      "118fb576-0bec-47c7-9f1a-65a3d562a783": {
       "attrs": {
        "height": 0.8,
        "width": 0.8,
        "x": 0.1,
        "y": 0.1
       },
       "content": {
        "cell": "2860da1a-e547-45cd-9005-c79a5a98c27a",
        "part": "whole"
       },
       "id": "118fb576-0bec-47c7-9f1a-65a3d562a783"
      }
     }
    },
    "781658a7-34ec-49ff-993c-52b58b700a13": {
     "id": "781658a7-34ec-49ff-993c-52b58b700a13",
     "prev": "ea10ce92-7055-44fa-a127-c8c9ae5abbfd",
     "regions": {
      "8762756f-beb7-47b6-89ba-e147348c3a8e": {
       "attrs": {
        "height": 0.8,
        "width": 0.8,
        "x": 0.1,
        "y": 0.1
       },
       "content": {
        "cell": "2b6de207-16f7-4787-aa57-7310d130be67",
        "part": "whole"
       },
       "id": "8762756f-beb7-47b6-89ba-e147348c3a8e"
      }
     }
    },
    "78e797c9-aadc-4a8a-9b92-4874bd2cc18c": {
     "id": "78e797c9-aadc-4a8a-9b92-4874bd2cc18c",
     "prev": "00e80300-8475-4abe-ac0f-62e652d00c2c",
     "regions": {
      "1e45d3fb-406d-4ac2-a30d-845a302cf09d": {
       "attrs": {
        "height": 0.8,
        "width": 0.8,
        "x": 0.1,
        "y": 0.1
       },
       "content": {
        "cell": "ed9abe71-e705-4a67-9b28-132e546ceb74",
        "part": "whole"
       },
       "id": "1e45d3fb-406d-4ac2-a30d-845a302cf09d"
      }
     }
    },
    "79785303-5e14-47f6-88e3-6a8c41746c44": {
     "id": "79785303-5e14-47f6-88e3-6a8c41746c44",
     "prev": "ba782e70-3335-463f-b8f4-e619d1ce55df",
     "regions": {
      "6cd95728-ed83-4c96-b109-3dc774adde77": {
       "attrs": {
        "height": 0.8,
        "width": 0.8,
        "x": 0.1,
        "y": 0.1
       },
       "content": {
        "cell": "1b6e8263-f113-49b0-9de2-9055c38cf052",
        "part": "whole"
       },
       "id": "6cd95728-ed83-4c96-b109-3dc774adde77"
      }
     }
    },
    "7bf22100-0cbc-4524-9a88-4d69b6b33db7": {
     "id": "7bf22100-0cbc-4524-9a88-4d69b6b33db7",
     "prev": "d609e827-961c-4767-9108-b8821bf063ad",
     "regions": {
      "9e16f9c5-830d-4fec-afdc-80bfc6bb0525": {
       "attrs": {
        "height": 0.8,
        "width": 0.8,
        "x": 0.1,
        "y": 0.1
       },
       "content": {
        "cell": "a23c3d55-3ae3-4f81-ba9a-83da1403425b",
        "part": "whole"
       },
       "id": "9e16f9c5-830d-4fec-afdc-80bfc6bb0525"
      }
     }
    },
    "7fa24ccb-4f09-403c-bfa7-b7dadc739a7c": {
     "id": "7fa24ccb-4f09-403c-bfa7-b7dadc739a7c",
     "prev": "a7238d70-5127-4554-9d74-43bbc33c0337",
     "regions": {
      "e1a345bb-9d35-4428-979e-5b0cc7bab6ae": {
       "attrs": {
        "height": 0.8,
        "width": 0.8,
        "x": 0.1,
        "y": 0.1
       },
       "content": {
        "cell": "ac131033-1da5-4737-ab96-70a04690910b",
        "part": "whole"
       },
       "id": "e1a345bb-9d35-4428-979e-5b0cc7bab6ae"
      }
     }
    },
    "81e41634-1bee-4d10-8b73-0d86faea9502": {
     "id": "81e41634-1bee-4d10-8b73-0d86faea9502",
     "prev": "1d763120-772e-48f1-8b21-7ab1ce39efab",
     "regions": {
      "dffb1abc-b7cd-4e73-a814-f5feab36449e": {
       "attrs": {
        "height": 0.8,
        "width": 0.8,
        "x": 0.1,
        "y": 0.1
       },
       "content": {
        "cell": "3b8722e5-6cc3-4784-9f57-498350e89afd",
        "part": "whole"
       },
       "id": "dffb1abc-b7cd-4e73-a814-f5feab36449e"
      }
     }
    },
    "8204ffd9-55e8-4fb2-8ad7-2167624a470d": {
     "id": "8204ffd9-55e8-4fb2-8ad7-2167624a470d",
     "prev": "2824a257-f99f-4cd6-ba32-07ecc16c663e",
     "regions": {
      "f00771eb-ecc1-41bf-b312-2810c77d8ff8": {
       "attrs": {
        "height": 0.8,
        "width": 0.8,
        "x": 0.1,
        "y": 0.1
       },
       "content": {
        "cell": "bab4a674-aa79-4746-94c6-f79dcac3350d",
        "part": "whole"
       },
       "id": "f00771eb-ecc1-41bf-b312-2810c77d8ff8"
      }
     }
    },
    "833c92fd-be14-4628-bbf6-395649e6453c": {
     "id": "833c92fd-be14-4628-bbf6-395649e6453c",
     "prev": "21474297-419c-439c-b5af-a130a59b1ec7",
     "regions": {
      "0631b8c6-02a3-4daf-ada5-0b117e0042ca": {
       "attrs": {
        "height": 0.8,
        "width": 0.8,
        "x": 0.1,
        "y": 0.1
       },
       "content": {
        "cell": "e9019c3b-9dad-419c-8552-deb1af42463f",
        "part": "whole"
       },
       "id": "0631b8c6-02a3-4daf-ada5-0b117e0042ca"
      }
     }
    },
    "84b47b30-ec49-4425-8e8f-3fe082708aa5": {
     "id": "84b47b30-ec49-4425-8e8f-3fe082708aa5",
     "prev": "feb80736-ad3d-4edd-946a-11f12c9519db",
     "regions": {
      "11a7a8b5-41b1-4770-9da5-46c3e8147b55": {
       "attrs": {
        "height": 0.8,
        "width": 0.8,
        "x": 0.1,
        "y": 0.1
       },
       "content": {
        "cell": "2a33fdc2-3c63-4063-a348-e81fe0ad1d19",
        "part": "whole"
       },
       "id": "11a7a8b5-41b1-4770-9da5-46c3e8147b55"
      }
     }
    },
    "85ba011f-6128-44a0-92b7-023bcc1daafa": {
     "id": "85ba011f-6128-44a0-92b7-023bcc1daafa",
     "prev": "4421ac11-503c-4787-a369-3d958089d6bc",
     "regions": {
      "59fd5fd0-b1a3-47e5-8ff5-e12982c9d241": {
       "attrs": {
        "height": 0.8,
        "width": 0.8,
        "x": 0.1,
        "y": 0.1
       },
       "content": {
        "cell": "8fae9af4-2393-450e-a74f-83381ab554b1",
        "part": "whole"
       },
       "id": "59fd5fd0-b1a3-47e5-8ff5-e12982c9d241"
      }
     }
    },
    "92cba6bf-a14e-4171-af7e-3ffe3078b734": {
     "id": "92cba6bf-a14e-4171-af7e-3ffe3078b734",
     "prev": "440a2e8c-6224-4b53-b1fd-278893fd8280",
     "regions": {
      "a4204718-3006-4ba5-9b6d-34f9ff889111": {
       "attrs": {
        "height": 0.8,
        "width": 0.8,
        "x": 0.1,
        "y": 0.1
       },
       "content": {
        "cell": "7d7c3fd4-a6cd-46fe-939a-a6792f175bbd",
        "part": "whole"
       },
       "id": "a4204718-3006-4ba5-9b6d-34f9ff889111"
      }
     }
    },
    "9af97f3b-b2d0-4653-a579-d0b539981420": {
     "id": "9af97f3b-b2d0-4653-a579-d0b539981420",
     "prev": "7547defb-1e51-4b9d-b3bb-1804a7ad41fa",
     "regions": {
      "373ba886-7cb0-46f5-8bcc-103772fb1512": {
       "attrs": {
        "height": 0.8,
        "width": 0.8,
        "x": 0.1,
        "y": 0.1
       },
       "content": {
        "cell": "4626418a-5b71-4c1a-87d8-06fcb8b94782",
        "part": "whole"
       },
       "id": "373ba886-7cb0-46f5-8bcc-103772fb1512"
      }
     }
    },
    "9da198a8-d5df-46ac-92fe-0c78002fdc79": {
     "id": "9da198a8-d5df-46ac-92fe-0c78002fdc79",
     "prev": "7fa24ccb-4f09-403c-bfa7-b7dadc739a7c",
     "regions": {
      "79d3c99a-5daf-4311-983d-78e559a7d2bc": {
       "attrs": {
        "height": 0.8,
        "width": 0.8,
        "x": 0.1,
        "y": 0.1
       },
       "content": {
        "cell": "fe5a2f66-bafa-4257-80e6-b3178d9ad318",
        "part": "whole"
       },
       "id": "79d3c99a-5daf-4311-983d-78e559a7d2bc"
      }
     }
    },
    "9eac5656-bda0-43ca-bca9-1231ff321ada": {
     "id": "9eac5656-bda0-43ca-bca9-1231ff321ada",
     "prev": "4ea98755-7d4b-4683-b5f1-50260da2e278",
     "regions": {
      "4b31ec4d-80ba-49b3-a547-4b0d3440e89d": {
       "attrs": {
        "height": 0.8,
        "width": 0.8,
        "x": 0.1,
        "y": 0.1
       },
       "content": {
        "cell": "2925afa6-25ef-4356-a4b3-7504d71b549f",
        "part": "whole"
       },
       "id": "4b31ec4d-80ba-49b3-a547-4b0d3440e89d"
      }
     }
    },
    "9f7d2a50-43e2-4706-a5f8-a15988f328dc": {
     "id": "9f7d2a50-43e2-4706-a5f8-a15988f328dc",
     "prev": "3aea420c-26af-477f-9c02-47257bc483ca",
     "regions": {
      "5d5c1bb5-440d-4bbe-8924-8bde308f77ec": {
       "attrs": {
        "height": 0.8,
        "width": 0.8,
        "x": 0.1,
        "y": 0.1
       },
       "content": {
        "cell": "a4d8abaa-4869-492f-bf92-cea2b431f544",
        "part": "whole"
       },
       "id": "5d5c1bb5-440d-4bbe-8924-8bde308f77ec"
      }
     }
    },
    "a1a820bc-cb95-47df-940a-1e208fb72fec": {
     "id": "a1a820bc-cb95-47df-940a-1e208fb72fec",
     "prev": "8204ffd9-55e8-4fb2-8ad7-2167624a470d",
     "regions": {
      "b7d2c836-b8da-4d4f-a85e-df4050453f1e": {
       "attrs": {
        "height": 0.8,
        "width": 0.8,
        "x": 0.1,
        "y": 0.1
       },
       "content": {
        "cell": "07b3390b-280d-4694-ae1e-6efbdda8764a",
        "part": "whole"
       },
       "id": "b7d2c836-b8da-4d4f-a85e-df4050453f1e"
      }
     }
    },
    "a7238d70-5127-4554-9d74-43bbc33c0337": {
     "id": "a7238d70-5127-4554-9d74-43bbc33c0337",
     "prev": "20ec951a-ba90-4bb1-bb4c-fb4b79aa3a6e",
     "regions": {
      "01808735-ef2b-4621-94b4-125d6b2ff7da": {
       "attrs": {
        "height": 0.8,
        "width": 0.8,
        "x": 0.1,
        "y": 0.1
       },
       "content": {
        "cell": "c65ef634-3df1-497f-8942-220fce0a11d2",
        "part": "whole"
       },
       "id": "01808735-ef2b-4621-94b4-125d6b2ff7da"
      }
     }
    },
    "aa6dffcf-3f54-41ea-9bbe-b191513c510a": {
     "id": "aa6dffcf-3f54-41ea-9bbe-b191513c510a",
     "prev": "bd26d15f-da03-4843-ac46-061ac1367f00",
     "regions": {
      "ab29b565-820a-4c27-a899-9de5a83deb4b": {
       "attrs": {
        "height": 0.8,
        "width": 0.8,
        "x": 0.1,
        "y": 0.1
       },
       "content": {
        "cell": "eb9f3ba0-a70b-45d8-b14f-eea6ac904c49",
        "part": "whole"
       },
       "id": "ab29b565-820a-4c27-a899-9de5a83deb4b"
      }
     }
    },
    "acab2259-a9c0-4191-a6aa-54917ece52b2": {
     "id": "acab2259-a9c0-4191-a6aa-54917ece52b2",
     "prev": "e8f55bf0-3aa1-4492-85d0-d454c0214cf7",
     "regions": {
      "0168538a-57ca-4a44-be43-2b7553621fc1": {
       "attrs": {
        "height": 0.8,
        "width": 0.8,
        "x": 0.1,
        "y": 0.1
       },
       "content": {
        "cell": "ec881ca4-b13f-425b-8306-007da8236c77",
        "part": "whole"
       },
       "id": "0168538a-57ca-4a44-be43-2b7553621fc1"
      }
     }
    },
    "aeb05aa7-6041-4b06-aa06-0e05e31ec7ef": {
     "id": "aeb05aa7-6041-4b06-aa06-0e05e31ec7ef",
     "prev": "535cf50c-5ee2-456c-91c4-00df2c529a28",
     "regions": {
      "ed03cd70-3a70-444c-916f-e7861172cf82": {
       "attrs": {
        "height": 0.8,
        "width": 0.8,
        "x": 0.1,
        "y": 0.1
       },
       "content": {
        "cell": "cf7731b8-b704-41f8-901b-24975b75613c",
        "part": "whole"
       },
       "id": "ed03cd70-3a70-444c-916f-e7861172cf82"
      }
     }
    },
    "aef43378-d470-4833-8fa7-716abac86ed5": {
     "id": "aef43378-d470-4833-8fa7-716abac86ed5",
     "prev": "aeb05aa7-6041-4b06-aa06-0e05e31ec7ef",
     "regions": {
      "1b1dbfad-2a8f-4607-bf56-06b5e493dacc": {
       "attrs": {
        "height": 0.8,
        "width": 0.8,
        "x": 0.1,
        "y": 0.1
       },
       "content": {
        "cell": "5855652b-0229-4d1d-ad21-6f98df801809",
        "part": "whole"
       },
       "id": "1b1dbfad-2a8f-4607-bf56-06b5e493dacc"
      }
     }
    },
    "b195dbd7-9263-4184-aa8a-0fe5224ed2db": {
     "id": "b195dbd7-9263-4184-aa8a-0fe5224ed2db",
     "prev": "da4112c4-cdde-416a-8597-394fd18ba6dd",
     "regions": {
      "f857e4e5-7dd6-402b-a9f5-f61f9766cb80": {
       "attrs": {
        "height": 0.8,
        "width": 0.8,
        "x": 0.1,
        "y": 0.1
       },
       "content": {
        "cell": "a610f458-aa4c-4dfb-af5e-a3c94eef42e2",
        "part": "whole"
       },
       "id": "f857e4e5-7dd6-402b-a9f5-f61f9766cb80"
      }
     }
    },
    "b744a194-6d46-414b-b94f-69cc83f1b520": {
     "id": "b744a194-6d46-414b-b94f-69cc83f1b520",
     "prev": "143aacb7-d86d-4d22-95de-200e068ad270",
     "regions": {
      "9ec32f20-3d14-44e8-9ecd-61458f916f6d": {
       "attrs": {
        "height": 0.8,
        "width": 0.8,
        "x": 0.1,
        "y": 0.1
       },
       "content": {
        "cell": "8e3a68ab-3006-42eb-a773-7b7c4e555219",
        "part": "whole"
       },
       "id": "9ec32f20-3d14-44e8-9ecd-61458f916f6d"
      }
     }
    },
    "ba782e70-3335-463f-b8f4-e619d1ce55df": {
     "id": "ba782e70-3335-463f-b8f4-e619d1ce55df",
     "prev": "494ffb05-60fe-47c5-9392-06e73eadf03b",
     "regions": {
      "2d233e3e-ed51-4117-940a-25d689c7ff15": {
       "attrs": {
        "height": 0.8,
        "width": 0.8,
        "x": 0.1,
        "y": 0.1
       },
       "content": {
        "cell": "7b9f6230-7720-408d-b070-35019f38cd03",
        "part": "whole"
       },
       "id": "2d233e3e-ed51-4117-940a-25d689c7ff15"
      }
     }
    },
    "bd26d15f-da03-4843-ac46-061ac1367f00": {
     "id": "bd26d15f-da03-4843-ac46-061ac1367f00",
     "prev": "cf7f644c-bf17-4abb-91a0-9cc3df2ae4a1",
     "regions": {
      "e603fb73-5503-4995-8795-d36faeddffb5": {
       "attrs": {
        "height": 0.8,
        "width": 0.8,
        "x": 0.1,
        "y": 0.1
       },
       "content": {
        "cell": "ffad0433-2a9b-41f1-b841-135a6d729356",
        "part": "whole"
       },
       "id": "e603fb73-5503-4995-8795-d36faeddffb5"
      }
     }
    },
    "bf58e6ee-496f-4706-8e22-a221e6ced5e9": {
     "id": "bf58e6ee-496f-4706-8e22-a221e6ced5e9",
     "prev": "92cba6bf-a14e-4171-af7e-3ffe3078b734",
     "regions": {
      "f642b1fd-47bf-468e-ab0b-aa89681ad317": {
       "attrs": {
        "height": 0.8,
        "width": 0.8,
        "x": 0.1,
        "y": 0.1
       },
       "content": {
        "cell": "36811a6f-49f5-4318-83cf-b406786e05d1",
        "part": "whole"
       },
       "id": "f642b1fd-47bf-468e-ab0b-aa89681ad317"
      }
     }
    },
    "c26f0f0e-7d91-434d-9a48-4ed8da976a35": {
     "id": "c26f0f0e-7d91-434d-9a48-4ed8da976a35",
     "prev": "2c218370-74cd-415c-9d00-dd2a68c7cb22",
     "regions": {
      "057f7cd7-e2fd-4d8a-8c01-4035ac800792": {
       "attrs": {
        "height": 0.8,
        "width": 0.8,
        "x": 0.1,
        "y": 0.1
       },
       "content": {
        "cell": "5e6d8639-5edf-45a8-82cf-dcd776f6ac66",
        "part": "whole"
       },
       "id": "057f7cd7-e2fd-4d8a-8c01-4035ac800792"
      }
     }
    },
    "c66d489f-0302-45d1-8d76-76ea6fd70513": {
     "id": "c66d489f-0302-45d1-8d76-76ea6fd70513",
     "prev": "0d0f2aff-15e6-4d4b-b716-4a11e059f9e7",
     "regions": {
      "7d88c4af-b797-48b7-8520-97b268ee2a61": {
       "attrs": {
        "height": 0.8,
        "width": 0.8,
        "x": 0.1,
        "y": 0.1
       },
       "content": {
        "cell": "94aea5ae-27f7-45f1-8d97-b554362d90ea",
        "part": "whole"
       },
       "id": "7d88c4af-b797-48b7-8520-97b268ee2a61"
      }
     }
    },
    "c75304bc-7ece-4099-9894-d05a95cc861c": {
     "id": "c75304bc-7ece-4099-9894-d05a95cc861c",
     "prev": "73eb7abb-28ef-4056-a915-3d220be67a7a",
     "regions": {
      "94090b6f-ef32-45da-ba5c-89b28d20e7ad": {
       "attrs": {
        "height": 0.8,
        "width": 0.8,
        "x": 0.1,
        "y": 0.1
       },
       "content": {
        "cell": "3e064ac9-b6dc-47b9-9dda-86c689759ddf",
        "part": "whole"
       },
       "id": "94090b6f-ef32-45da-ba5c-89b28d20e7ad"
      }
     }
    },
    "c7fbd5e9-38c5-4458-a7ee-e8be869c87d3": {
     "id": "c7fbd5e9-38c5-4458-a7ee-e8be869c87d3",
     "prev": "610d62e4-ab29-4466-a6b5-601c0915aea5",
     "regions": {
      "13fcc5f8-ebcf-41ec-9b5c-16d610620a8b": {
       "attrs": {
        "height": 0.8,
        "width": 0.8,
        "x": 0.1,
        "y": 0.1
       },
       "content": {
        "cell": "dbe37ec6-3fbc-4f27-9880-6bdde18ca617",
        "part": "whole"
       },
       "id": "13fcc5f8-ebcf-41ec-9b5c-16d610620a8b"
      }
     }
    },
    "c8d20b4b-06fa-48cf-929d-af29bbdf9221": {
     "id": "c8d20b4b-06fa-48cf-929d-af29bbdf9221",
     "prev": "e8cfb0ba-ec62-44d2-a06e-e387961f31f9",
     "regions": {
      "9b5842ea-4056-47e1-8c5f-94a8e90c1fe9": {
       "attrs": {
        "height": 0.8,
        "width": 0.8,
        "x": 0.1,
        "y": 0.1
       },
       "content": {
        "cell": "acf6cfe7-6e85-4a87-a0af-1663e0652553",
        "part": "whole"
       },
       "id": "9b5842ea-4056-47e1-8c5f-94a8e90c1fe9"
      }
     }
    },
    "c9ae8344-1319-45ed-b45e-4c0ca31bfb4b": {
     "id": "c9ae8344-1319-45ed-b45e-4c0ca31bfb4b",
     "prev": "f507b2c5-1bd2-40d5-99da-e2ecaf407fbe",
     "regions": {
      "7295327d-f5d9-4f10-a58b-abfd8fcf5c3d": {
       "attrs": {
        "height": 0.8,
        "width": 0.8,
        "x": 0.1,
        "y": 0.1
       },
       "content": {
        "cell": "52b14273-520f-4336-8289-c9de8c610295",
        "part": "whole"
       },
       "id": "7295327d-f5d9-4f10-a58b-abfd8fcf5c3d"
      }
     }
    },
    "cac52ddb-6cb7-4c79-95d3-41e0708d2c62": {
     "id": "cac52ddb-6cb7-4c79-95d3-41e0708d2c62",
     "prev": "833c92fd-be14-4628-bbf6-395649e6453c",
     "regions": {
      "a3897367-1d3b-4e5f-8d84-6818426dde21": {
       "attrs": {
        "height": 0.8,
        "width": 0.8,
        "x": 0.1,
        "y": 0.1
       },
       "content": {
        "cell": "02394cb2-8d55-4db0-9a0e-6a526725fe16",
        "part": "whole"
       },
       "id": "a3897367-1d3b-4e5f-8d84-6818426dde21"
      }
     }
    },
    "cf7f644c-bf17-4abb-91a0-9cc3df2ae4a1": {
     "id": "cf7f644c-bf17-4abb-91a0-9cc3df2ae4a1",
     "prev": "acab2259-a9c0-4191-a6aa-54917ece52b2",
     "regions": {
      "923f3f60-96f2-4b07-89dc-46c47c483eb3": {
       "attrs": {
        "height": 0.8,
        "width": 0.8,
        "x": 0.1,
        "y": 0.1
       },
       "content": {
        "cell": "30a744ff-cb23-4784-9d04-0b036735c833",
        "part": "whole"
       },
       "id": "923f3f60-96f2-4b07-89dc-46c47c483eb3"
      }
     }
    },
    "cf855c83-6381-477f-b303-ba74c20b23cb": {
     "id": "cf855c83-6381-477f-b303-ba74c20b23cb",
     "prev": "3bffe244-b402-4f77-b8d7-07b6205ecc68",
     "regions": {
      "64ce06c1-2716-42d2-bbb5-b9db265d0b04": {
       "attrs": {
        "height": 0.8,
        "width": 0.8,
        "x": 0.1,
        "y": 0.1
       },
       "content": {
        "cell": "587214ae-4484-47eb-8927-7d8834285571",
        "part": "whole"
       },
       "id": "64ce06c1-2716-42d2-bbb5-b9db265d0b04"
      }
     }
    },
    "d4a12278-93e9-4575-af80-81e9c3026067": {
     "id": "d4a12278-93e9-4575-af80-81e9c3026067",
     "prev": "054abcff-16bd-46d9-8bad-d00b1c8e5432",
     "regions": {
      "1e67fd97-a47b-4f21-9f46-075abf208a52": {
       "attrs": {
        "height": 0.8,
        "width": 0.8,
        "x": 0.1,
        "y": 0.1
       },
       "content": {
        "cell": "603b41ea-9c2b-4b20-9d8f-0c5b8ac77e8a",
        "part": "whole"
       },
       "id": "1e67fd97-a47b-4f21-9f46-075abf208a52"
      }
     }
    },
    "d55efd1e-dbb0-4ec9-9062-e5fe7665c007": {
     "id": "d55efd1e-dbb0-4ec9-9062-e5fe7665c007",
     "prev": null,
     "regions": {
      "1988a751-fac9-4803-8a26-0c845603146d": {
       "attrs": {
        "height": 0.8,
        "width": 0.8,
        "x": 0.1,
        "y": 0.1
       },
       "content": {
        "cell": "1757dd8d-245a-4545-af33-afd2cb26f0b3",
        "part": "whole"
       },
       "id": "1988a751-fac9-4803-8a26-0c845603146d"
      }
     }
    },
    "d609e827-961c-4767-9108-b8821bf063ad": {
     "id": "d609e827-961c-4767-9108-b8821bf063ad",
     "prev": "45862c7b-93c5-4d30-adea-af27c27e5ba2",
     "regions": {
      "d0152407-3f29-4a85-b62c-47074d51405c": {
       "attrs": {
        "height": 0.8,
        "width": 0.8,
        "x": 0.1,
        "y": 0.1
       },
       "content": {
        "cell": "5ff9251d-5de3-40f8-b31e-21b2a90f5498",
        "part": "whole"
       },
       "id": "d0152407-3f29-4a85-b62c-47074d51405c"
      }
     }
    },
    "d8d6f263-9f98-4512-95b0-1fee84b2c65f": {
     "id": "d8d6f263-9f98-4512-95b0-1fee84b2c65f",
     "prev": "cac52ddb-6cb7-4c79-95d3-41e0708d2c62",
     "regions": {
      "b628c891-b193-4b51-8603-20734e2830a1": {
       "attrs": {
        "height": 0.8,
        "width": 0.8,
        "x": 0.1,
        "y": 0.1
       },
       "content": {
        "cell": "cd17d68a-298a-492f-90bb-e7ee3e13318f",
        "part": "whole"
       },
       "id": "b628c891-b193-4b51-8603-20734e2830a1"
      }
     }
    },
    "da4112c4-cdde-416a-8597-394fd18ba6dd": {
     "id": "da4112c4-cdde-416a-8597-394fd18ba6dd",
     "prev": "59a4b39b-6042-43b4-a809-5034ad1b610a",
     "regions": {
      "87825035-3246-4968-800c-21969e77febb": {
       "attrs": {
        "height": 0.8,
        "width": 0.8,
        "x": 0.1,
        "y": 0.1
       },
       "content": {
        "cell": "80b5903a-87ff-43af-96ff-ce2f674688c3",
        "part": "whole"
       },
       "id": "87825035-3246-4968-800c-21969e77febb"
      }
     }
    },
    "e209c256-49ae-492a-95d6-198df0223dc9": {
     "id": "e209c256-49ae-492a-95d6-198df0223dc9",
     "prev": "764835eb-9e07-48d5-8ff0-5f64428d5f78",
     "regions": {
      "b4f78d0f-03b2-46ce-bedc-251fece9c2ed": {
       "attrs": {
        "height": 0.8,
        "width": 0.8,
        "x": 0.1,
        "y": 0.1
       },
       "content": {
        "cell": "8868a013-b160-494e-a453-63dd2cf84ba2",
        "part": "whole"
       },
       "id": "b4f78d0f-03b2-46ce-bedc-251fece9c2ed"
      }
     }
    },
    "e8cfb0ba-ec62-44d2-a06e-e387961f31f9": {
     "id": "e8cfb0ba-ec62-44d2-a06e-e387961f31f9",
     "prev": "183ddec4-b3cb-493d-a3c1-0ea3fc52c757",
     "regions": {
      "cf77e1e8-c3ca-49bb-8ee1-f429971d3152": {
       "attrs": {
        "height": 0.8,
        "width": 0.8,
        "x": 0.1,
        "y": 0.1
       },
       "content": {
        "cell": "2085ab38-35ef-40de-8928-8121857b27cd",
        "part": "whole"
       },
       "id": "cf77e1e8-c3ca-49bb-8ee1-f429971d3152"
      }
     }
    },
    "e8f55bf0-3aa1-4492-85d0-d454c0214cf7": {
     "id": "e8f55bf0-3aa1-4492-85d0-d454c0214cf7",
     "prev": "aef43378-d470-4833-8fa7-716abac86ed5",
     "regions": {
      "1a099189-b9ff-44ea-a863-bd45d4c790b6": {
       "attrs": {
        "height": 0.8,
        "width": 0.8,
        "x": 0.1,
        "y": 0.1
       },
       "content": {
        "cell": "489220b4-0d65-42f4-a64d-e0dac9bdd8d9",
        "part": "whole"
       },
       "id": "1a099189-b9ff-44ea-a863-bd45d4c790b6"
      }
     }
    },
    "e9adf5b8-61c2-4403-a5a4-d52de77a89b4": {
     "id": "e9adf5b8-61c2-4403-a5a4-d52de77a89b4",
     "prev": "b744a194-6d46-414b-b94f-69cc83f1b520",
     "regions": {
      "52fcd602-3485-4215-86a9-8d1a4e643015": {
       "attrs": {
        "height": 0.8,
        "width": 0.8,
        "x": 0.1,
        "y": 0.1
       },
       "content": {
        "cell": "d79f7d65-1079-4b76-9a59-0012a1904b1a",
        "part": "whole"
       },
       "id": "52fcd602-3485-4215-86a9-8d1a4e643015"
      }
     }
    },
    "ea10ce92-7055-44fa-a127-c8c9ae5abbfd": {
     "id": "ea10ce92-7055-44fa-a127-c8c9ae5abbfd",
     "prev": "2e0d50b0-a933-433a-b7f1-382a7a23de9d",
     "regions": {
      "d44e7f87-3ce2-4d99-8daf-b437ce976794": {
       "attrs": {
        "height": 0.8,
        "width": 0.8,
        "x": 0.1,
        "y": 0.1
       },
       "content": {
        "cell": "0b3de693-d96f-4814-a7cf-e7540f4f8d97",
        "part": "whole"
       },
       "id": "d44e7f87-3ce2-4d99-8daf-b437ce976794"
      }
     }
    },
    "ec046c26-a630-4f8b-88e8-9fb3aa025f8f": {
     "id": "ec046c26-a630-4f8b-88e8-9fb3aa025f8f",
     "prev": "e9adf5b8-61c2-4403-a5a4-d52de77a89b4",
     "regions": {
      "b56b8f2c-d6ab-41ed-8a78-f806b90232b3": {
       "attrs": {
        "height": 0.8,
        "width": 0.8,
        "x": 0.1,
        "y": 0.1
       },
       "content": {
        "cell": "d4b0c106-294d-4e1c-8e90-140f720c5ca4",
        "part": "whole"
       },
       "id": "b56b8f2c-d6ab-41ed-8a78-f806b90232b3"
      }
     }
    },
    "f1213c97-e207-4733-ac93-4d75e08acebc": {
     "id": "f1213c97-e207-4733-ac93-4d75e08acebc",
     "prev": "65a9007e-88b7-4f8b-b9b0-b9124871e049",
     "regions": {
      "175cb1d2-890c-4a7b-bfbf-d1b5890bfc79": {
       "attrs": {
        "height": 0.8,
        "width": 0.8,
        "x": 0.1,
        "y": 0.1
       },
       "content": {
        "cell": "a1089010-0288-4e49-9278-92a1cf90e563",
        "part": "whole"
       },
       "id": "175cb1d2-890c-4a7b-bfbf-d1b5890bfc79"
      }
     }
    },
    "f1a64e2d-478d-453c-a61f-a371ef0a0bd6": {
     "id": "f1a64e2d-478d-453c-a61f-a371ef0a0bd6",
     "prev": "53c0c516-ff50-4963-92cd-c6c783af6072",
     "regions": {
      "04d6f3a8-4128-4f08-bd6e-1ff193ed221b": {
       "attrs": {
        "height": 0.8,
        "width": 0.8,
        "x": 0.1,
        "y": 0.1
       },
       "content": {
        "cell": "193d5b44-47fa-40ae-a057-157cb77e7377",
        "part": "whole"
       },
       "id": "04d6f3a8-4128-4f08-bd6e-1ff193ed221b"
      }
     }
    },
    "f1e6760d-ee91-4bd9-95b3-f7152b30b04a": {
     "id": "f1e6760d-ee91-4bd9-95b3-f7152b30b04a",
     "prev": "c75304bc-7ece-4099-9894-d05a95cc861c",
     "regions": {
      "64670d80-fae0-47c1-84ff-496783d375f8": {
       "attrs": {
        "height": 0.8,
        "width": 0.8,
        "x": 0.1,
        "y": 0.1
       },
       "content": {
        "cell": "20b10ea1-07ee-4eb1-9aae-94a2feaa96a4",
        "part": "whole"
       },
       "id": "64670d80-fae0-47c1-84ff-496783d375f8"
      }
     }
    },
    "f507b2c5-1bd2-40d5-99da-e2ecaf407fbe": {
     "id": "f507b2c5-1bd2-40d5-99da-e2ecaf407fbe",
     "prev": "0e0a82e6-268d-4c29-8057-71bf20c07a91",
     "regions": {
      "2d4d5446-7fb9-4ea9-9c2d-61b2d699d227": {
       "attrs": {
        "height": 0.8,
        "width": 0.8,
        "x": 0.1,
        "y": 0.1
       },
       "content": {
        "cell": "bcc5a2c9-8dd8-4822-8ba3-ac4f0ea37d2c",
        "part": "whole"
       },
       "id": "2d4d5446-7fb9-4ea9-9c2d-61b2d699d227"
      }
     }
    },
    "fa69e72e-8a2a-4f75-8128-2e7c1c297157": {
     "id": "fa69e72e-8a2a-4f75-8128-2e7c1c297157",
     "prev": "c66d489f-0302-45d1-8d76-76ea6fd70513",
     "regions": {
      "13b6273b-c02f-4b0a-87c2-a34d964b024a": {
       "attrs": {
        "height": 0.8,
        "width": 0.8,
        "x": 0.1,
        "y": 0.1
       },
       "content": {
        "cell": "6c789c09-c970-4b84-8419-b32f1d95fcae",
        "part": "whole"
       },
       "id": "13b6273b-c02f-4b0a-87c2-a34d964b024a"
      }
     }
    },
    "feb80736-ad3d-4edd-946a-11f12c9519db": {
     "id": "feb80736-ad3d-4edd-946a-11f12c9519db",
     "prev": "49a75e13-d091-4a9d-bba5-2844464ff2df",
     "regions": {
      "84bacc00-005c-4f99-adf2-fba61e7de06b": {
       "attrs": {
        "height": 0.8,
        "width": 0.8,
        "x": 0.1,
        "y": 0.1
       },
       "content": {
        "cell": "e9341600-8613-48bb-b720-31c7941d8d6f",
        "part": "whole"
       },
       "id": "84bacc00-005c-4f99-adf2-fba61e7de06b"
      }
     }
    }
   },
   "themes": {}
  }
 },
 "nbformat": 4,
 "nbformat_minor": 0
}
