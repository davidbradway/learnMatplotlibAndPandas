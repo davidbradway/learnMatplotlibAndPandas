{
 "cells": [
  {
   "cell_type": "code",
   "execution_count": 1,
   "metadata": {
    "collapsed": false
   },
   "outputs": [
    {
     "name": "stdout",
     "output_type": "stream",
     "text": [
      "\"patient\",\"target\",\"isthi\",\"focus\",\"acq\"\n",
      "\"A\",\"B\",True,8,1\n",
      "\"A\",\"B\",False,8,2\n",
      "  patient target  isthi  focus  acq\n",
      "0       A      B   True      8    1\n",
      "1       A      B  False      8    2\n",
      "[{\"patient\":\"A\",\"target\":\"B\",\"isthi\":true,\"focus\":8,\"acq\":1},{\"patient\":\"A\",\"target\":\"B\",\"isthi\":false,\"focus\":8,\"acq\":2}]\n"
     ]
    }
   ],
   "source": [
    "import pandas as pd\n",
    "\n",
    "# Diversion... JSON\n",
    "# Declare my csv string (Works):\n",
    "l = []\n",
    "l.append('\"patient\",\"target\",\"isthi\",\"focus\",\"acq\"\\n')\n",
    "l.append('\"A\",\"B\",True,8,1\\n')\n",
    "l.append('\"A\",\"B\",False,8,2')\n",
    "csvStr = ''.join(l)\n",
    "print(csvStr) # Just checking the variables contents\n",
    "\n",
    "# Read csv and convert to DataFrame (Works):\n",
    "from io import StringIO\n",
    "csvDf = pd.read_csv(StringIO(csvStr))\n",
    "print(csvDf) # Just checking the variables contents\n",
    "\n",
    "# Convert DataFrame to json:\n",
    "myJSON = csvDf.to_json(path_or_buf = None,\n",
    "                       orient = 'records',\n",
    "                       date_format = 'epoch',\n",
    "                       double_precision = 10,\n",
    "                       force_ascii = True,\n",
    "                       date_unit = 'ms',\n",
    "                       default_handler = None) # Attempt 1\n",
    "print (myJSON) # Just checking the variables contents"
   ]
  },
  {
   "cell_type": "code",
   "execution_count": null,
   "metadata": {
    "collapsed": true
   },
   "outputs": [],
   "source": []
  }
 ],
 "metadata": {
  "anaconda-cloud": {},
  "kernelspec": {
   "display_name": "Python [Root]",
   "language": "python",
   "name": "Python [Root]"
  },
  "language_info": {
   "codemirror_mode": {
    "name": "ipython",
    "version": 3
   },
   "file_extension": ".py",
   "mimetype": "text/x-python",
   "name": "python",
   "nbconvert_exporter": "python",
   "pygments_lexer": "ipython3",
   "version": "3.5.2"
  }
 },
 "nbformat": 4,
 "nbformat_minor": 0
}
